{
 "cells": [
  {
   "cell_type": "markdown",
   "id": "6864f40d-2a2d-49d8-8052-954323cbe204",
   "metadata": {},
   "source": [
    "# MBDA 790 Capstone"
   ]
  },
  {
   "cell_type": "markdown",
   "id": "466444a0-d750-46b5-9f80-2e1991e0ed5c",
   "metadata": {},
   "source": [
    "# Intoduction"
   ]
  },
  {
   "cell_type": "markdown",
   "id": "89f9a0e4-469e-43f8-8c4a-6f115b42ff80",
   "metadata": {},
   "source": [
    "The dataset used in this project was downloaded from the UCI Machine Learning Repository and is a collection of handwritten letters used for image classification. The name of the dataset is \"Letter Recognition\" and was originally created in 1990 by David Slate. There are 20,000 instances in the data set each representing a handwritten english capital letters in 20 different fonts. Although the scope of this assignment is to conduct exploratory analysis and partition the data, efforts undertaken during this assingment will feed into the larger goals of the project. The goal of the project will be the creation of an image classification system that will iteratively improve itself through a simulated online learning environment. During this paper, the data will be explored for imbalances, variables inspected to understand the distibution of data, partitioned for training and testing, and partitioned for model improvement. "
   ]
  },
  {
   "cell_type": "markdown",
   "id": "1df31dcd-15e3-48c1-8039-bd8d3283f75d",
   "metadata": {},
   "source": [
    "## Prepare Environment"
   ]
  },
  {
   "cell_type": "code",
   "execution_count": null,
   "id": "c914e7370d09815b",
   "metadata": {
    "ExecuteTime": {
     "end_time": "2024-07-27T18:01:33.563172Z",
     "start_time": "2024-07-27T18:00:28.411733Z"
    }
   },
   "outputs": [],
   "source": [
    "!pip install matplotlib\n",
    "!pip install numpy\n",
    "!pip install numpy scipy scikit-learn\n",
    "!pip install pandas\n",
    "!pip install seaborn"
   ]
  },
  {
   "cell_type": "code",
   "execution_count": 1,
   "id": "d2d9617c-e16d-4bc5-9d75-b01d2f3bfa30",
   "metadata": {
    "ExecuteTime": {
     "end_time": "2024-07-28T19:53:04.662309Z",
     "start_time": "2024-07-28T19:53:04.453431Z"
    }
   },
   "outputs": [],
   "source": [
    "import numpy as np                            \n",
    "import pandas as pd\n",
    "import seaborn as sns\n",
    "import matplotlib.pyplot as plt\n",
    "\n",
    "from sklearn.naive_bayes import BernoulliNB             # used to create Naive Bayes (NB) Model\n",
    "from sklearn.neighbors import KNeighborsClassifier      # used to create KNN (KNN) Model\n",
    "from sklearn.linear_model import LogisticRegression     # used to create Logistic Regression Model\n",
    "from sklearn import svm                                 # used to create Support Vector Machine (SVM) Model\n",
    "from sklearn.tree import DecisionTreeClassifier         # used to create Decision Tree Classifier (\n",
    "from sklearn.ensemble import RandomForestClassifier     # used to create Random Forest (RF) Model\n",
    "from sklearn.neural_network import MLPClassifier        # used to create Artificial Neural Network (ANN)\n",
    "\n",
    "from sklearn.preprocessing import StandardScaler\n",
    "from sklearn.model_selection import train_test_split        \n",
    "from sklearn.metrics import accuracy_score, precision_recall_fscore_support,f1_score, roc_auc_score \n",
    "from sklearn.metrics import roc_curve, auc, confusion_matrix, ConfusionMatrixDisplay, classification_report"
   ]
  },
  {
   "cell_type": "markdown",
   "id": "055e5dbf-71e1-4304-9cf3-b28c021fbca5",
   "metadata": {},
   "source": [
    "## Import Data Set"
   ]
  },
  {
   "cell_type": "code",
   "execution_count": 2,
   "id": "428f48d9-26c1-48b6-bd4b-c877ff0a2df3",
   "metadata": {
    "ExecuteTime": {
     "end_time": "2024-07-28T19:53:08.610322Z",
     "start_time": "2024-07-28T19:53:08.427911Z"
    }
   },
   "outputs": [],
   "source": [
    "DBHI = pd.read_csv('diabetes_binary_health_indicators.csv')"
   ]
  },
  {
   "cell_type": "code",
   "execution_count": null,
   "id": "3e360054-8972-4dce-8bfc-82b92f368375",
   "metadata": {
    "ExecuteTime": {
     "end_time": "2024-07-28T15:15:39.555355Z",
     "start_time": "2024-07-28T15:15:39.541361Z"
    }
   },
   "outputs": [],
   "source": [
    "# INFO: Show variable info\n",
    "DBHI.info()"
   ]
  },
  {
   "cell_type": "code",
   "execution_count": null,
   "id": "b8e8f389-a1de-4a5b-91dd-f0d6a9c192f9",
   "metadata": {
    "ExecuteTime": {
     "end_time": "2024-07-28T15:15:41.068581Z",
     "start_time": "2024-07-28T15:15:40.898569Z"
    }
   },
   "outputs": [],
   "source": [
    "# DESCRIBE: Show statistical summary of dataframe\n",
    "DBHI.describe()"
   ]
  },
  {
   "cell_type": "code",
   "execution_count": null,
   "id": "d29cd76d-4fd9-47b3-81a7-fd574931e65a",
   "metadata": {
    "ExecuteTime": {
     "end_time": "2024-07-28T15:15:42.237847Z",
     "start_time": "2024-07-28T15:15:42.223305Z"
    }
   },
   "outputs": [],
   "source": [
    "# Print head of features data frame\n",
    "DBHI.head()"
   ]
  },
  {
   "cell_type": "code",
   "execution_count": 3,
   "id": "4b851209-0dfe-4671-8f92-bcce9e64c6b9",
   "metadata": {
    "ExecuteTime": {
     "end_time": "2024-07-28T19:53:18.520577Z",
     "start_time": "2024-07-28T19:53:18.504346Z"
    }
   },
   "outputs": [
    {
     "name": "stdout",
     "output_type": "stream",
     "text": [
      "<class 'pandas.core.frame.DataFrame'>\n",
      "RangeIndex: 130866 entries, 0 to 130865\n",
      "Data columns (total 13 columns):\n",
      " #   Column                Non-Null Count   Dtype  \n",
      "---  ------                --------------   -----  \n",
      " 0   Diabetes_binary       130866 non-null  float64\n",
      " 1   HighBP                130866 non-null  float64\n",
      " 2   HighChol              130866 non-null  float64\n",
      " 3   BMI                   130866 non-null  float64\n",
      " 4   Smoker                130866 non-null  float64\n",
      " 5   Stroke                130866 non-null  float64\n",
      " 6   HeartDiseaseorAttack  130866 non-null  float64\n",
      " 7   PhysActivity          130865 non-null  float64\n",
      " 8   Fruits                130865 non-null  float64\n",
      " 9   Veggies               130865 non-null  float64\n",
      " 10  GenHlth               130865 non-null  float64\n",
      " 11  MentHlth              130865 non-null  float64\n",
      " 12  PhysHlth              130865 non-null  float64\n",
      "dtypes: float64(13)\n",
      "memory usage: 13.0 MB\n"
     ]
    }
   ],
   "source": [
    "# DBHI2 = Paired down version of DBHI\n",
    "DBHI2 = DBHI.iloc[:, [0, 1, 2, 4, 5, 6, 7, 8, 9, 10, 14, 15, 16]]\n",
    "DBHI2.info()"
   ]
  },
  {
   "cell_type": "code",
   "execution_count": null,
   "id": "1a546da9-4df5-4532-ae87-7eeb173c4817",
   "metadata": {
    "ExecuteTime": {
     "end_time": "2024-07-28T15:16:59.648524Z",
     "start_time": "2024-07-28T15:15:45.871475Z"
    }
   },
   "outputs": [],
   "source": [
    "# PAIRPLOT: Create PairPlot of variables in DataFrame\n",
    "plt.figure(figsize=(10, 8))\n",
    "sns.pairplot(DBHI2)\n",
    "plt.show()"
   ]
  },
  {
   "cell_type": "code",
   "execution_count": null,
   "id": "3611c5d5-4738-438a-8dc4-786274e2a0b8",
   "metadata": {},
   "outputs": [],
   "source": [
    "# Print tail of data frame\n",
    "DBHI.tail()"
   ]
  },
  {
   "cell_type": "code",
   "execution_count": null,
   "id": "915bef0e-03c1-4b57-9b0b-14d4f53d926a",
   "metadata": {
    "ExecuteTime": {
     "end_time": "2024-07-28T16:56:22.343106Z",
     "start_time": "2024-07-28T16:56:17.433272Z"
    }
   },
   "outputs": [],
   "source": [
    "# Create boxplots for each variable\n",
    "sns.set(style=\"whitegrid\") \n",
    "plt.figure(figsize=(6, 4))\n",
    "sns.boxplot(data=DBHI2)\n",
    "plt.xlabel(\"Variables\")\n",
    "plt.ylabel(\"Values\")\n",
    "plt.title(\"Boxplots for Each Variable in DBHI2\")\n",
    "plt.xticks(rotation=70)\n",
    "plt.show()"
   ]
  },
  {
   "cell_type": "code",
   "execution_count": null,
   "id": "47196a9b-cfe8-4848-85e7-87d07fc41063",
   "metadata": {},
   "outputs": [],
   "source": [
    "fig, axes = plt.subplots(nrows=2, ncols=2, figsize=(14, 10))\n",
    "\n",
    "# Plot 1: Distribution of 'Diabetes_binary'\n",
    "sns.countplot(x='Diabetes_binary', data=DBHI, ax=axes[0, 0])\n",
    "axes[0, 0].set_title('Distribution of Diabetes_binary')\n",
    "axes[0, 0].set_xlabel('Diabetes_binary')\n",
    "axes[0, 0].set_ylabel('Count')\n",
    "\n",
    "# Plot 2: Distribution of 'HighBP'\n",
    "sns.countplot(x='HighBP', data=DBHI, ax=axes[0, 1])\n",
    "axes[0, 1].set_title('Distribution of HighBP')\n",
    "axes[0, 1].set_xlabel('HighBP')\n",
    "axes[0, 1].set_ylabel('Count')\n",
    "\n",
    "# Plot 3: Distribution of 'High Cholesterol'\n",
    "sns.countplot(x='HighChol', data=DBHI, ax=axes[1, 0])\n",
    "axes[1, 0].set_title('Distribution of High Cholesterol')\n",
    "axes[1, 0].set_xlabel('High Cholesterol')\n",
    "axes[1, 0].set_ylabel('Count')\n",
    "\n",
    "# Plot 4: Distribution of 'Smoker'\n",
    "sns.countplot(x='Smoker', data=DBHI, ax=axes[1, 1])\n",
    "axes[1, 1].set_title('Distribution of Smokers')\n",
    "axes[1, 1].set_xlabel('Smoker')\n",
    "axes[1, 1].set_ylabel('Count')\n",
    "\n",
    "plt.tight_layout()\n",
    "plt.show()"
   ]
  },
  {
   "cell_type": "code",
   "execution_count": null,
   "id": "3025c742-6516-43c7-9101-cdb0731117d1",
   "metadata": {},
   "outputs": [],
   "source": [
    "# Count the number of 1s in the Diabetes_binary column\n",
    "C1 = DBHI['Diabetes_binary'].value_counts()[1]\n",
    "C0 = DBHI['Diabetes_binary'].value_counts()[0]\n",
    "print(\"Number of 1s:\", C1)\n",
    "print(\"Number of 0s:\", C0)"
   ]
  },
  {
   "cell_type": "code",
   "execution_count": null,
   "id": "19431135-4a22-43e1-b2cd-1d75604549ca",
   "metadata": {},
   "outputs": [],
   "source": [
    "# Count the number of 1s in the HighBP column\n",
    "C1a = DBHI['HighBP'].value_counts()[1]\n",
    "C0a = DBHI['HighBP'].value_counts()[0]\n",
    "print(\"Number of 1s:\", C1a)\n",
    "print(\"Number of 0s:\", C0a)"
   ]
  },
  {
   "cell_type": "code",
   "execution_count": null,
   "id": "eecc4532-55f0-4b9b-817c-2a8b14300325",
   "metadata": {},
   "outputs": [],
   "source": [
    "# Count the number of 1s in the High Cholesterol column\n",
    "C1b = DBHI['HighChol'].value_counts()[1]\n",
    "C0b = DBHI['HighChol'].value_counts()[0]\n",
    "print(\"Number of 1s:\", C1b)\n",
    "print(\"Number of 0s:\", C0b)"
   ]
  },
  {
   "cell_type": "code",
   "execution_count": null,
   "id": "a7674a92-fe69-448d-88c4-e9d64810f408",
   "metadata": {},
   "outputs": [],
   "source": [
    "# Count the number of 1s in the Smoker column\n",
    "C1c = DBHI['Smoker'].value_counts()[1]\n",
    "C0c = DBHI['Smoker'].value_counts()[0]\n",
    "print(\"Number of 1s:\", C1c)\n",
    "print(\"Number of 0s:\", C0c)"
   ]
  },
  {
   "cell_type": "code",
   "execution_count": null,
   "id": "e29b46e8-cdff-4a46-86e6-bb4a2cca3037",
   "metadata": {},
   "outputs": [],
   "source": [
    "fig, axes = plt.subplots(nrows=2, ncols=2, figsize=(14, 10))\n",
    "\n",
    "# Plot 1: Distribution of 'Fruit' Consumption\n",
    "sns.countplot(x='Fruits', data=DBHI, ax=axes[0, 0])\n",
    "axes[0, 0].set_title('Distribution of Fruit Consumption')\n",
    "axes[0, 0].set_xlabel('Fruit Consumption')\n",
    "axes[0, 0].set_ylabel('Count')\n",
    "\n",
    "# Plot 2: Distribution of 'Vegetable' Consumption\n",
    "sns.countplot(x='Veggies', data=DBHI, ax=axes[0, 1])\n",
    "axes[0, 1].set_title('Distribution of Vegetable Consumption')\n",
    "axes[0, 1].set_xlabel('Vegetable Consumption')\n",
    "axes[0, 1].set_ylabel('Count')\n",
    "\n",
    "# Plot 3: Distribution of 'Sex'\n",
    "sns.countplot(x='Sex', data=DBHI, ax=axes[1, 0])\n",
    "axes[1, 0].set_title('Distribution of Gender')\n",
    "axes[1, 0].set_xlabel('Gender')\n",
    "axes[1, 0].set_ylabel('Count')\n",
    "\n",
    "# Plot 4: Distribution of 'Age'\n",
    "sns.countplot(x='Age', data=DBHI, ax=axes[1, 1])\n",
    "axes[1, 1].set_title('Distribution of Age')\n",
    "axes[1, 1].set_xlabel('Age')\n",
    "axes[1, 1].set_ylabel('Count')\n",
    "\n",
    "plt.tight_layout()\n",
    "plt.show()"
   ]
  },
  {
   "cell_type": "code",
   "execution_count": null,
   "id": "e6c1be61-98ff-4aca-a1dd-282ee14b4edc",
   "metadata": {},
   "outputs": [],
   "source": [
    "# Count the number of 1s in the Smoker column\n",
    "C1d = DBHI['Fruits'].value_counts()[1]\n",
    "C0d = DBHI['Fruits'].value_counts()[0]\n",
    "print(\"Number of 1s:\", C1d)\n",
    "print(\"Number of 0s:\", C0d)"
   ]
  },
  {
   "cell_type": "code",
   "execution_count": null,
   "id": "ef001d17-c222-43a3-81d0-cb999038355c",
   "metadata": {},
   "outputs": [],
   "source": [
    "# Count the number of 1s in the Smoker column\n",
    "C1e = DBHI['Veggies'].value_counts()[1]\n",
    "C0e = DBHI['Veggies'].value_counts()[0]\n",
    "print(\"Number of 1s:\", C1e)\n",
    "print(\"Number of 0s:\", C0e)"
   ]
  },
  {
   "cell_type": "code",
   "execution_count": null,
   "id": "dd6e6e04-0566-46ed-8c39-03193dd4ca6e",
   "metadata": {},
   "outputs": [],
   "source": [
    "# Count the number of 1s in the Smoker column\n",
    "C1f = DBHI['Sex'].value_counts()[1]\n",
    "C0f = DBHI['Sex'].value_counts()[0]\n",
    "print(\"Number of 1s:\", C1f)\n",
    "print(\"Number of 0s:\", C0f)"
   ]
  },
  {
   "cell_type": "code",
   "execution_count": null,
   "id": "51251069-0a84-49c4-bd1c-9f1dc3a4556c",
   "metadata": {},
   "outputs": [],
   "source": []
  },
  {
   "cell_type": "code",
   "execution_count": null,
   "id": "0f93fda2-ad2b-4713-8b96-24a611ff5f8c",
   "metadata": {
    "jupyter": {
     "is_executing": true
    }
   },
   "outputs": [],
   "source": [
    "# Create a correlation matrix of the features in the data set\n",
    "correlation_matrix = DBHI2.corr()\n",
    "print(correlation_matrix)"
   ]
  },
  {
   "cell_type": "code",
   "execution_count": null,
   "id": "d1f4ac43-3c44-4149-85c0-41e3b99ea79f",
   "metadata": {},
   "outputs": [],
   "source": [
    "# Correlation matrix heatmap of data frame\n",
    "sns.heatmap(correlation_matrix, annot = False, fmt = \".2f\", cmap = 'coolwarm',\n",
    "            square = True, linewidths = .5, cbar_kws = {\"shrink\": .5})"
   ]
  },
  {
   "cell_type": "code",
   "execution_count": null,
   "id": "5b5c3739-f2be-4546-a4fd-f9d81d59d763",
   "metadata": {},
   "outputs": [],
   "source": [
    "# INFO: Show variable info\n",
    "DBHI2.info()"
   ]
  },
  {
   "cell_type": "markdown",
   "id": "19d163de-b91a-4a0a-95dc-46647a1da6dc",
   "metadata": {},
   "source": [
    "## Split Data"
   ]
  },
  {
   "cell_type": "code",
   "execution_count": null,
   "id": "9dc391da-96c2-45aa-a0cd-c9700a0313e5",
   "metadata": {
    "ExecuteTime": {
     "end_time": "2024-07-27T18:15:52.611196Z",
     "start_time": "2024-07-27T18:15:52.235547Z"
    }
   },
   "outputs": [],
   "source": [
    "# NAs: Check for any NA values and empty strings, and Print the rows with Missing Values \n",
    "NAVal = DBHI2.isnull().any(axis=1).to_numpy().nonzero()[0]\n",
    "EmpStr = DBHI2.applymap(lambda x: x == '').any(axis=1).to_numpy().nonzero()[0]\n",
    "MissIndic = list(set(NAVal) | set(EmpStr))\n",
    "MVRs = DBHI2.iloc[MissIndic]\n",
    "print(MVRs)"
   ]
  },
  {
   "cell_type": "code",
   "execution_count": null,
   "id": "923bf621-d317-4050-ab21-9d5621524b47",
   "metadata": {
    "ExecuteTime": {
     "end_time": "2024-07-28T19:53:40.100605Z",
     "start_time": "2024-07-28T19:53:40.086806Z"
    }
   },
   "outputs": [],
   "source": [
    "DBHI2 = DBHI2.drop(index=130865)"
   ]
  },
  {
   "cell_type": "code",
   "execution_count": null,
   "id": "714b4d4b-7476-4b3b-adc7-9006a81f461e",
   "metadata": {},
   "outputs": [],
   "source": [
    "# NAs: Check for any NA values and empty strings, and Print the rows with Missing Values \n",
    "NAVal = DBHI2.isnull().any(axis=1).to_numpy().nonzero()[0]\n",
    "EmpStr = DBHI2.applymap(lambda x: x == '').any(axis=1).to_numpy().nonzero()[0]\n",
    "MissIndic = list(set(NAVal) | set(EmpStr))\n",
    "MVRs = DBHI2.iloc[MissIndic]\n",
    "print(MVRs)"
   ]
  },
  {
   "cell_type": "code",
   "execution_count": 4,
   "id": "a979d92d-3b4b-475f-b910-205a0b2bc49b",
   "metadata": {},
   "outputs": [],
   "source": [
    "# Plug NaN values with 0\n",
    "DBHI2 = DBHI2.fillna(0)"
   ]
  },
  {
   "cell_type": "code",
   "execution_count": 5,
   "id": "dc434de4-bb24-4196-80d1-756d4f356515",
   "metadata": {
    "ExecuteTime": {
     "end_time": "2024-07-28T19:53:45.555478Z",
     "start_time": "2024-07-28T19:53:45.540733Z"
    },
    "editable": true,
    "slideshow": {
     "slide_type": ""
    },
    "tags": []
   },
   "outputs": [
    {
     "name": "stdout",
     "output_type": "stream",
     "text": [
      "<class 'pandas.core.frame.DataFrame'>\n",
      "RangeIndex: 130866 entries, 0 to 130865\n",
      "Data columns (total 12 columns):\n",
      " #   Column                Non-Null Count   Dtype  \n",
      "---  ------                --------------   -----  \n",
      " 0   HighBP                130866 non-null  float64\n",
      " 1   HighChol              130866 non-null  float64\n",
      " 2   BMI                   130866 non-null  float64\n",
      " 3   Smoker                130866 non-null  float64\n",
      " 4   Stroke                130866 non-null  float64\n",
      " 5   HeartDiseaseorAttack  130866 non-null  float64\n",
      " 6   PhysActivity          130866 non-null  float64\n",
      " 7   Fruits                130866 non-null  float64\n",
      " 8   Veggies               130866 non-null  float64\n",
      " 9   GenHlth               130866 non-null  float64\n",
      " 10  MentHlth              130866 non-null  float64\n",
      " 11  PhysHlth              130866 non-null  float64\n",
      "dtypes: float64(12)\n",
      "memory usage: 12.0 MB\n"
     ]
    }
   ],
   "source": [
    "# Split variables features into dataframe X\n",
    "X = DBHI2.iloc[:, [1, 2, 3, 4, 5, 6, 7, 8, 9, 10, 11, 12]]\n",
    "X.info()"
   ]
  },
  {
   "cell_type": "code",
   "execution_count": 6,
   "id": "56f89882-35a8-455a-9a4a-02cae2ed1ee3",
   "metadata": {
    "ExecuteTime": {
     "end_time": "2024-07-28T19:53:48.169079Z",
     "start_time": "2024-07-28T19:53:48.162764Z"
    }
   },
   "outputs": [
    {
     "name": "stdout",
     "output_type": "stream",
     "text": [
      "<class 'pandas.core.frame.DataFrame'>\n",
      "RangeIndex: 130866 entries, 0 to 130865\n",
      "Data columns (total 1 columns):\n",
      " #   Column           Non-Null Count   Dtype  \n",
      "---  ------           --------------   -----  \n",
      " 0   Diabetes_binary  130866 non-null  float64\n",
      "dtypes: float64(1)\n",
      "memory usage: 1022.5 KB\n"
     ]
    }
   ],
   "source": [
    "# Split variables features into dataframe Y\n",
    "Y = DBHI2.iloc[:, [0]]\n",
    "Y.info()"
   ]
  },
  {
   "cell_type": "markdown",
   "id": "754ee144a9fdc492",
   "metadata": {},
   "source": [
    "* Split Data as Columnar Dataframes"
   ]
  },
  {
   "cell_type": "code",
   "execution_count": null,
   "id": "97c26c1e-e62d-44b4-917c-44c79cb52000",
   "metadata": {
    "ExecuteTime": {
     "end_time": "2024-07-28T15:18:28.513378Z",
     "start_time": "2024-07-28T15:18:28.480205Z"
    },
    "editable": true,
    "slideshow": {
     "slide_type": ""
    },
    "tags": []
   },
   "outputs": [],
   "source": [
    "# Split data into training and testing sets:\n",
    "X_train, X_test, Y_train, Y_test = train_test_split(X,Y, test_size=0.25, random_state=42)"
   ]
  },
  {
   "cell_type": "markdown",
   "id": "905df4fc88067a88",
   "metadata": {},
   "source": [
    "* Split Data with y as an Array"
   ]
  },
  {
   "cell_type": "code",
   "execution_count": 7,
   "id": "24c11353c7ca2f10",
   "metadata": {
    "ExecuteTime": {
     "end_time": "2024-07-28T19:54:01.301473Z",
     "start_time": "2024-07-28T19:54:01.264982Z"
    }
   },
   "outputs": [],
   "source": [
    "# Convert the 'Diabetes_Binary column to a NumPy array\n",
    "y = Y['Diabetes_binary'].to_numpy()\n",
    "# Change Y column shape to array\n",
    "y = y.ravel()\n",
    "# Split data into training and testing sets:\n",
    "X_train, X_test, y_train, y_test = train_test_split(X, y, test_size=0.25, random_state=42)"
   ]
  },
  {
   "cell_type": "markdown",
   "id": "127cb17a-7b39-492c-ae47-db3763927410",
   "metadata": {
    "editable": true,
    "slideshow": {
     "slide_type": ""
    },
    "tags": []
   },
   "source": [
    "# Naive Bayes Model (0)"
   ]
  },
  {
   "cell_type": "code",
   "execution_count": null,
   "id": "80529b29-68e1-4063-921f-6f31ce5ca8ac",
   "metadata": {
    "ExecuteTime": {
     "end_time": "2024-07-28T15:20:12.201395Z",
     "start_time": "2024-07-28T15:20:12.152175Z"
    }
   },
   "outputs": [],
   "source": [
    "# initialize the model\n",
    "BNB = BernoulliNB(binarize=0.0)\n",
    "BNB.fit(X_train, y_train)"
   ]
  },
  {
   "cell_type": "code",
   "execution_count": null,
   "id": "6c453e0f-1bb5-41dd-86e7-70d99504e9bb",
   "metadata": {
    "ExecuteTime": {
     "end_time": "2024-07-28T15:20:38.584424Z",
     "start_time": "2024-07-28T15:20:38.567194Z"
    },
    "editable": true,
    "slideshow": {
     "slide_type": ""
    },
    "tags": []
   },
   "outputs": [],
   "source": [
    "# Make predictions on the test set\n",
    "y_pred = BNB.predict(X_test)\n",
    "\n",
    "# Evaluate its performance on the test set\n",
    "initial_accuracy = accuracy_score(y_test, y_pred)\n",
    "print(f'Initial model accuracy: {initial_accuracy:.4f}')"
   ]
  },
  {
   "cell_type": "code",
   "execution_count": null,
   "id": "9a778536-20be-4e43-99a5-540f05a8abf3",
   "metadata": {},
   "outputs": [],
   "source": [
    "# Calculate F1 Score\n",
    "F1 = f1_score(y_pred, y_test, average=\"weighted\")\n",
    "print(\"F1 Score:\", F1)"
   ]
  },
  {
   "cell_type": "code",
   "execution_count": null,
   "id": "d9df61ef-1a0b-4d6d-8630-37a00a2dc66a",
   "metadata": {},
   "outputs": [],
   "source": [
    "# Calculate the confusion matrix\n",
    "CM = confusion_matrix(y_test, y_pred)\n",
    "print(\"Confusion Matrix:\")\n",
    "print(CM)"
   ]
  },
  {
   "cell_type": "code",
   "execution_count": null,
   "id": "f7d202e9-c136-447b-bf18-159777a05bc7",
   "metadata": {},
   "outputs": [],
   "source": [
    "# Visualize Confusion Matrix\n",
    "labels = [0,1]\n",
    "CM1 = confusion_matrix(y_test, y_pred, labels=labels)\n",
    "disp = ConfusionMatrixDisplay(confusion_matrix=CM1, display_labels=labels)\n",
    "disp.plot();"
   ]
  },
  {
   "cell_type": "code",
   "execution_count": null,
   "id": "e3a578c7-f96d-49f6-9473-09eaa9de83d2",
   "metadata": {},
   "outputs": [],
   "source": [
    "# Calculate the sensitivity (true positive rate)\n",
    "SENSE = CM[1][1] / (CM[1][0] + CM[1][1])\n",
    "print(\"Sensitivity:\", SENSE)"
   ]
  },
  {
   "cell_type": "code",
   "execution_count": null,
   "id": "8c918ef5-9d34-424b-96bb-74aae062b7ee",
   "metadata": {},
   "outputs": [],
   "source": [
    "# Generate a classification report\n",
    "RPT = classification_report(y_test, y_pred)\n",
    "print(\"Classification Report:\")\n",
    "print(RPT)"
   ]
  },
  {
   "cell_type": "code",
   "execution_count": null,
   "id": "0efd743f-4fc1-445e-82fe-a7521db8e8db",
   "metadata": {},
   "outputs": [],
   "source": [
    "# Calculate the ROC-AUC score\n",
    "RcAc = roc_auc_score(y_test, y_pred)\n",
    "print(\"ROC-AUC Score:\", RcAc)"
   ]
  },
  {
   "cell_type": "code",
   "execution_count": null,
   "id": "cf87d3bf-3bae-43ba-9965-bf3e87e9ed6c",
   "metadata": {},
   "outputs": [],
   "source": [
    "# Calculate the ROC curve and AUC\n",
    "fpr, tpr, thresholds = roc_curve(y_test, y_pred)\n",
    "roc_auc = auc(fpr, tpr)"
   ]
  },
  {
   "cell_type": "code",
   "execution_count": null,
   "id": "e266c8e8-58a5-4249-a76f-f084f15b25e4",
   "metadata": {},
   "outputs": [],
   "source": [
    "# Plot the ROC curve\n",
    "plt.figure()\n",
    "plt.plot(fpr, tpr, color='darkorange', lw=2, label='ROC curve (area = %0.2f)' % roc_auc)\n",
    "plt.plot([0, 1], [0, 1], color='navy', lw=2, linestyle='--')\n",
    "plt.xlim([0.0, 1.0])\n",
    "plt.ylim([0.0, 1.05])\n",
    "plt.xlabel('False Positive Rate')\n",
    "plt.ylabel('True Positive Rate')\n",
    "plt.title('Naive Bayes - Receiver Operating Characteristic Curve')\n",
    "plt.legend(loc=\"lower right\")\n",
    "plt.show()"
   ]
  },
  {
   "cell_type": "markdown",
   "id": "d2b4ae84-d7f5-4ed0-bb9b-1105fe1f1c87",
   "metadata": {},
   "source": [
    "# K-Nearest Neighbor (1a)"
   ]
  },
  {
   "cell_type": "code",
   "execution_count": null,
   "id": "b4227b9a-2292-4d85-b717-bdbc9f99f9a6",
   "metadata": {
    "ExecuteTime": {
     "end_time": "2024-07-28T15:20:59.024293Z",
     "start_time": "2024-07-28T15:20:59.021505Z"
    }
   },
   "outputs": [],
   "source": [
    "# Create a kNN classifier with k=3 (you can adjust k as needed)\n",
    "KNN = KNeighborsClassifier(n_neighbors=3)"
   ]
  },
  {
   "cell_type": "code",
   "execution_count": null,
   "id": "9318fd7e-933f-4b07-9b65-6b3aadd7f760",
   "metadata": {
    "ExecuteTime": {
     "end_time": "2024-07-28T15:21:07.323592Z",
     "start_time": "2024-07-28T15:21:06.723218Z"
    }
   },
   "outputs": [],
   "source": [
    "# Fit the model to the training data\n",
    "KNN.fit(X_train, y_train)"
   ]
  },
  {
   "cell_type": "code",
   "execution_count": null,
   "id": "548dda6b-c76d-4f03-a7c1-4cebbbed2b30",
   "metadata": {
    "ExecuteTime": {
     "end_time": "2024-07-28T15:21:32.102193Z",
     "start_time": "2024-07-28T15:21:25.492610Z"
    }
   },
   "outputs": [],
   "source": [
    "# Make predictions on the test set\n",
    "y_pred1 = KNN.predict(X_test)\n",
    "\n",
    "# Evaluate its performance on the test set\n",
    "initial_accuracy = accuracy_score(y_test, y_pred1)\n",
    "print(f'Initial model accuracy: {initial_accuracy:.4f}')"
   ]
  },
  {
   "cell_type": "code",
   "execution_count": null,
   "id": "d3f72419-7d6a-4ff9-9f1b-6e226adb93eb",
   "metadata": {},
   "outputs": [],
   "source": [
    "# Calculate F1 Score\n",
    "F1a = f1_score(y_pred1, y_test, average=\"weighted\")\n",
    "print(\"F1 Score:\", F1a)"
   ]
  },
  {
   "cell_type": "code",
   "execution_count": null,
   "id": "0835ad1d-c4b5-4994-ada8-c4a9887dfa7c",
   "metadata": {},
   "outputs": [],
   "source": [
    "# Calculate the confusion matrix\n",
    "CMa = confusion_matrix(y_test, y_pred1)\n",
    "print(\"Confusion Matrix:\")\n",
    "print(CMa)"
   ]
  },
  {
   "cell_type": "code",
   "execution_count": null,
   "id": "c5548982-bc3c-4aec-86dc-86b5078bc1ee",
   "metadata": {},
   "outputs": [],
   "source": [
    "# Visualize Confusion Matrix\n",
    "labels = [0,1]\n",
    "CM1a = confusion_matrix(y_test, y_pred1, labels=labels)\n",
    "disp = ConfusionMatrixDisplay(confusion_matrix=CM1a, display_labels=labels)\n",
    "disp.plot();"
   ]
  },
  {
   "cell_type": "code",
   "execution_count": null,
   "id": "cbbc848d-e91c-422c-931d-0f3fa1f92fb3",
   "metadata": {},
   "outputs": [],
   "source": [
    "# Calculate the sensitivity (true positive rate)\n",
    "SENSE1 = CMa[1][1] / (CMa[1][0] + CMa[1][1])\n",
    "print(\"Sensitivity:\", SENSE1)"
   ]
  },
  {
   "cell_type": "code",
   "execution_count": null,
   "id": "f7755e36-d401-47be-ae4a-5ca67344149f",
   "metadata": {},
   "outputs": [],
   "source": [
    "# Generate a classification report\n",
    "RPT1 = classification_report(y_test, y_pred1)\n",
    "print(\"Classification Report:\")\n",
    "print(RPT1)"
   ]
  },
  {
   "cell_type": "code",
   "execution_count": null,
   "id": "3f4057df-1d00-4f32-a23b-c61e50c2c098",
   "metadata": {},
   "outputs": [],
   "source": [
    "# Calculate the ROC-AUC score\n",
    "RcAc1 = roc_auc_score(y_test, y_pred1)\n",
    "print(\"ROC-AUC Score:\", RcAc1)"
   ]
  },
  {
   "cell_type": "code",
   "execution_count": null,
   "id": "f80c5c66-43be-4f23-bd35-d988c3c0da8d",
   "metadata": {},
   "outputs": [],
   "source": [
    "# Calculate the ROC curve and AUC\n",
    "fpr1, tpr1, thresholds = roc_curve(y_test, y_pred1)\n",
    "roc_auc1 = auc(fpr1, tpr1)"
   ]
  },
  {
   "cell_type": "code",
   "execution_count": null,
   "id": "968274c5-d2ac-496e-98bb-a5b5cc701937",
   "metadata": {},
   "outputs": [],
   "source": [
    "# Plot the ROC curve\n",
    "plt.figure()\n",
    "plt.plot(fpr, tpr, color='darkorange', lw=2, label='ROC curve (area = %0.2f)' % roc_auc1)\n",
    "plt.plot([0, 1], [0, 1], color='navy', lw=2, linestyle='--')\n",
    "plt.xlim([0.0, 1.0])\n",
    "plt.ylim([0.0, 1.05])\n",
    "plt.xlabel('False Positive Rate')\n",
    "plt.ylabel('True Positive Rate')\n",
    "plt.title('Naive Bayes - Receiver Operating Characteristic Curve')\n",
    "plt.legend(loc=\"lower right\")\n",
    "plt.show()"
   ]
  },
  {
   "cell_type": "markdown",
   "id": "84067180-f0b1-4c92-b01c-0a3e47139cbe",
   "metadata": {},
   "source": [
    "# Logistic Regression (2b)"
   ]
  },
  {
   "cell_type": "code",
   "execution_count": null,
   "id": "8a216080-9b27-4eb5-a171-ccde4b68cd08",
   "metadata": {
    "ExecuteTime": {
     "end_time": "2024-07-28T15:21:41.976586Z",
     "start_time": "2024-07-28T15:21:41.973567Z"
    }
   },
   "outputs": [],
   "source": [
    "# Create a logistic regression model\n",
    "LRM = LogisticRegression()"
   ]
  },
  {
   "cell_type": "code",
   "execution_count": null,
   "id": "49bc24af-ce63-4b6c-a10a-7f6d1d1f2127",
   "metadata": {
    "ExecuteTime": {
     "end_time": "2024-07-28T15:21:47.328722Z",
     "start_time": "2024-07-28T15:21:46.182395Z"
    }
   },
   "outputs": [],
   "source": [
    "# Fit the model to the training data\n",
    "LRM.fit(X_train, y_train)"
   ]
  },
  {
   "cell_type": "code",
   "execution_count": null,
   "id": "aa905698-31f0-4135-9194-56595d201bc3",
   "metadata": {
    "ExecuteTime": {
     "end_time": "2024-07-28T15:21:55.747009Z",
     "start_time": "2024-07-28T15:21:55.738188Z"
    }
   },
   "outputs": [],
   "source": [
    "# Make predictions on the test set\n",
    "y_pred2 = LRM.predict(X_test)\n",
    "\n",
    "# Evaluate its performance on the test set\n",
    "initial_accuracy = accuracy_score(y_test, y_pred2)\n",
    "print(f'Initial model accuracy: {initial_accuracy:.4f}')"
   ]
  },
  {
   "cell_type": "code",
   "execution_count": null,
   "id": "8989fd07-c48a-4201-b529-42431cafcc47",
   "metadata": {},
   "outputs": [],
   "source": [
    "# Calculate F1 Score\n",
    "F1b = f1_score(y_pred2, y_test, average=\"weighted\")\n",
    "print(\"F1 Score:\", F1b)"
   ]
  },
  {
   "cell_type": "code",
   "execution_count": null,
   "id": "ce26fccc-5058-4384-a21b-253c6e813a23",
   "metadata": {},
   "outputs": [],
   "source": [
    "# Calculate the confusion matrix\n",
    "CMb = confusion_matrix(y_test, y_pred2)\n",
    "print(\"Confusion Matrix:\")\n",
    "print(CMb)"
   ]
  },
  {
   "cell_type": "code",
   "execution_count": null,
   "id": "261ddea0-d29b-4694-80ce-00546e1ab496",
   "metadata": {},
   "outputs": [],
   "source": [
    "# Visualize Confusion Matrix\n",
    "labels = [0,1]\n",
    "CM2 = confusion_matrix(y_test, y_pred2, labels=labels)\n",
    "disp = ConfusionMatrixDisplay(confusion_matrix=CM2, display_labels=labels)\n",
    "disp.plot();"
   ]
  },
  {
   "cell_type": "code",
   "execution_count": null,
   "id": "cb714478-2bbf-4e93-acff-7143e8fdf51d",
   "metadata": {},
   "outputs": [],
   "source": [
    "# Calculate the sensitivity (true positive rate)\n",
    "SENSE2 = CMb[1][1] / (CMb[1][0] + CMb[1][1])\n",
    "print(\"Sensitivity:\", SENSE2)"
   ]
  },
  {
   "cell_type": "code",
   "execution_count": null,
   "id": "f54d8cc8-b06d-41a4-8cdc-e272d34155e4",
   "metadata": {
    "scrolled": true
   },
   "outputs": [],
   "source": [
    "# Generate a classification report\n",
    "RPT2 = classification_report(y_test, y_pred2)\n",
    "print(\"Classification Report:\")\n",
    "print(RPT2)"
   ]
  },
  {
   "cell_type": "code",
   "execution_count": null,
   "id": "b2e887b3-651f-4435-9d54-5441ace95119",
   "metadata": {},
   "outputs": [],
   "source": [
    "# Calculate the ROC-AUC score\n",
    "RcAc2 = roc_auc_score(y_test, y_pred2)\n",
    "print(\"ROC-AUC Score:\", RcAc2)"
   ]
  },
  {
   "cell_type": "code",
   "execution_count": null,
   "id": "7d2de26c-ed96-435e-86c8-596767ef5d0c",
   "metadata": {},
   "outputs": [],
   "source": [
    "# Calculate the ROC curve and AUC\n",
    "fpr2, tpr2, thresholds = roc_curve(y_test, y_pred2)\n",
    "roc_auc2 = auc(fpr2, tpr2)"
   ]
  },
  {
   "cell_type": "code",
   "execution_count": null,
   "id": "ef5e0194-e43f-4622-b285-5f7f32c07bf3",
   "metadata": {},
   "outputs": [],
   "source": [
    "# Plot the ROC curve\n",
    "plt.figure()\n",
    "plt.plot(fpr, tpr, color='darkorange', lw=2, label='ROC curve (area = %0.2f)' % roc_auc2)\n",
    "plt.plot([0, 1], [0, 1], color='navy', lw=2, linestyle='--')\n",
    "plt.xlim([0.0, 1.0])\n",
    "plt.ylim([0.0, 1.05])\n",
    "plt.xlabel('False Positive Rate')\n",
    "plt.ylabel('True Positive Rate')\n",
    "plt.title('Naive Bayes - Receiver Operating Characteristic Curve')\n",
    "plt.legend(loc=\"lower right\")\n",
    "plt.show()"
   ]
  },
  {
   "cell_type": "markdown",
   "id": "dd448f84-d625-417f-a7c7-57f044224512",
   "metadata": {},
   "source": [
    "# Support Vector Machine (3c)"
   ]
  },
  {
   "cell_type": "code",
   "execution_count": 37,
   "id": "ba2c203838df8723",
   "metadata": {
    "ExecuteTime": {
     "end_time": "2024-07-28T19:54:17.097063Z",
     "start_time": "2024-07-28T19:54:17.093929Z"
    }
   },
   "outputs": [],
   "source": [
    "from sklearn.svm import SVC\n",
    "from sklearn.datasets import make_classification"
   ]
  },
  {
   "cell_type": "code",
   "execution_count": 38,
   "id": "54cde6e83378ede3",
   "metadata": {
    "ExecuteTime": {
     "end_time": "2024-07-28T19:54:18.519244Z",
     "start_time": "2024-07-28T19:54:18.516786Z"
    }
   },
   "outputs": [],
   "source": [
    "# Create an SVM classifier with a linear kernel\n",
    "SVMC = SVC(kernel='rbf')"
   ]
  },
  {
   "cell_type": "code",
   "execution_count": 39,
   "id": "45afac2d867ef38b",
   "metadata": {
    "ExecuteTime": {
     "start_time": "2024-07-28T19:54:20.491747Z"
    },
    "jupyter": {
     "is_executing": true
    }
   },
   "outputs": [
    {
     "data": {
      "text/html": [
       "<style>#sk-container-id-4 {color: black;}#sk-container-id-4 pre{padding: 0;}#sk-container-id-4 div.sk-toggleable {background-color: white;}#sk-container-id-4 label.sk-toggleable__label {cursor: pointer;display: block;width: 100%;margin-bottom: 0;padding: 0.3em;box-sizing: border-box;text-align: center;}#sk-container-id-4 label.sk-toggleable__label-arrow:before {content: \"▸\";float: left;margin-right: 0.25em;color: #696969;}#sk-container-id-4 label.sk-toggleable__label-arrow:hover:before {color: black;}#sk-container-id-4 div.sk-estimator:hover label.sk-toggleable__label-arrow:before {color: black;}#sk-container-id-4 div.sk-toggleable__content {max-height: 0;max-width: 0;overflow: hidden;text-align: left;background-color: #f0f8ff;}#sk-container-id-4 div.sk-toggleable__content pre {margin: 0.2em;color: black;border-radius: 0.25em;background-color: #f0f8ff;}#sk-container-id-4 input.sk-toggleable__control:checked~div.sk-toggleable__content {max-height: 200px;max-width: 100%;overflow: auto;}#sk-container-id-4 input.sk-toggleable__control:checked~label.sk-toggleable__label-arrow:before {content: \"▾\";}#sk-container-id-4 div.sk-estimator input.sk-toggleable__control:checked~label.sk-toggleable__label {background-color: #d4ebff;}#sk-container-id-4 div.sk-label input.sk-toggleable__control:checked~label.sk-toggleable__label {background-color: #d4ebff;}#sk-container-id-4 input.sk-hidden--visually {border: 0;clip: rect(1px 1px 1px 1px);clip: rect(1px, 1px, 1px, 1px);height: 1px;margin: -1px;overflow: hidden;padding: 0;position: absolute;width: 1px;}#sk-container-id-4 div.sk-estimator {font-family: monospace;background-color: #f0f8ff;border: 1px dotted black;border-radius: 0.25em;box-sizing: border-box;margin-bottom: 0.5em;}#sk-container-id-4 div.sk-estimator:hover {background-color: #d4ebff;}#sk-container-id-4 div.sk-parallel-item::after {content: \"\";width: 100%;border-bottom: 1px solid gray;flex-grow: 1;}#sk-container-id-4 div.sk-label:hover label.sk-toggleable__label {background-color: #d4ebff;}#sk-container-id-4 div.sk-serial::before {content: \"\";position: absolute;border-left: 1px solid gray;box-sizing: border-box;top: 0;bottom: 0;left: 50%;z-index: 0;}#sk-container-id-4 div.sk-serial {display: flex;flex-direction: column;align-items: center;background-color: white;padding-right: 0.2em;padding-left: 0.2em;position: relative;}#sk-container-id-4 div.sk-item {position: relative;z-index: 1;}#sk-container-id-4 div.sk-parallel {display: flex;align-items: stretch;justify-content: center;background-color: white;position: relative;}#sk-container-id-4 div.sk-item::before, #sk-container-id-4 div.sk-parallel-item::before {content: \"\";position: absolute;border-left: 1px solid gray;box-sizing: border-box;top: 0;bottom: 0;left: 50%;z-index: -1;}#sk-container-id-4 div.sk-parallel-item {display: flex;flex-direction: column;z-index: 1;position: relative;background-color: white;}#sk-container-id-4 div.sk-parallel-item:first-child::after {align-self: flex-end;width: 50%;}#sk-container-id-4 div.sk-parallel-item:last-child::after {align-self: flex-start;width: 50%;}#sk-container-id-4 div.sk-parallel-item:only-child::after {width: 0;}#sk-container-id-4 div.sk-dashed-wrapped {border: 1px dashed gray;margin: 0 0.4em 0.5em 0.4em;box-sizing: border-box;padding-bottom: 0.4em;background-color: white;}#sk-container-id-4 div.sk-label label {font-family: monospace;font-weight: bold;display: inline-block;line-height: 1.2em;}#sk-container-id-4 div.sk-label-container {text-align: center;}#sk-container-id-4 div.sk-container {/* jupyter's `normalize.less` sets `[hidden] { display: none; }` but bootstrap.min.css set `[hidden] { display: none !important; }` so we also need the `!important` here to be able to override the default hidden behavior on the sphinx rendered scikit-learn.org. See: https://github.com/scikit-learn/scikit-learn/issues/21755 */display: inline-block !important;position: relative;}#sk-container-id-4 div.sk-text-repr-fallback {display: none;}</style><div id=\"sk-container-id-4\" class=\"sk-top-container\"><div class=\"sk-text-repr-fallback\"><pre>SVC()</pre><b>In a Jupyter environment, please rerun this cell to show the HTML representation or trust the notebook. <br />On GitHub, the HTML representation is unable to render, please try loading this page with nbviewer.org.</b></div><div class=\"sk-container\" hidden><div class=\"sk-item\"><div class=\"sk-estimator sk-toggleable\"><input class=\"sk-toggleable__control sk-hidden--visually\" id=\"sk-estimator-id-4\" type=\"checkbox\" checked><label for=\"sk-estimator-id-4\" class=\"sk-toggleable__label sk-toggleable__label-arrow\">SVC</label><div class=\"sk-toggleable__content\"><pre>SVC()</pre></div></div></div></div></div>"
      ],
      "text/plain": [
       "SVC()"
      ]
     },
     "execution_count": 39,
     "metadata": {},
     "output_type": "execute_result"
    }
   ],
   "source": [
    "# Fit the model to the training data\n",
    "SVMC.fit(X_train, y_train)"
   ]
  },
  {
   "cell_type": "code",
   "execution_count": 40,
   "id": "27cc5d8f-def5-43bd-8d4e-617ae1b785d8",
   "metadata": {},
   "outputs": [
    {
     "name": "stdout",
     "output_type": "stream",
     "text": [
      "Initial model accuracy: 0.8616\n"
     ]
    }
   ],
   "source": [
    "# Make predictions on the test set\n",
    "y_pred3 = SVMC.predict(X_test)\n",
    "\n",
    "# Evaluate its performance on the test set\n",
    "initial_accuracy = accuracy_score(y_test, y_pred3)\n",
    "print(f'Initial model accuracy: {initial_accuracy:.4f}')"
   ]
  },
  {
   "cell_type": "code",
   "execution_count": null,
   "id": "e789441d-49be-4ec3-b7ef-f5fcfd0cc2e9",
   "metadata": {},
   "outputs": [],
   "source": [
    "# Calculate F1 Score\n",
    "F1c = f1_score(y_pred3, y_test, average=\"weighted\")\n",
    "print(\"F1 Score:\", F1c)"
   ]
  },
  {
   "cell_type": "code",
   "execution_count": null,
   "id": "5f74321e-b13e-42f6-9470-ac0b00286117",
   "metadata": {},
   "outputs": [],
   "source": [
    "# Calculate the confusion matrix\n",
    "CMc = confusion_matrix(y_test, y_pred3)\n",
    "print(\"Confusion Matrix:\")\n",
    "print(CMc)"
   ]
  },
  {
   "cell_type": "code",
   "execution_count": null,
   "id": "7b6beea7-0867-4cfb-a299-f43504f5c91e",
   "metadata": {},
   "outputs": [],
   "source": [
    "# Visualize Confusion Matrix\n",
    "labels = [0,1]\n",
    "CM3 = confusion_matrix(y_test, y_pred3, labels=labels)\n",
    "disp = ConfusionMatrixDisplay(confusion_matrix=CM3, display_labels=labels)\n",
    "disp.plot();"
   ]
  },
  {
   "cell_type": "code",
   "execution_count": null,
   "id": "5ddf65e6-da16-4248-affd-ee7cd710f61c",
   "metadata": {},
   "outputs": [],
   "source": [
    "# Calculate the sensitivity (true positive rate)\n",
    "SENSE3 = CMc[1][1] / (CMc[1][0] + CMc[1][1])\n",
    "print(\"Sensitivity:\", SENSE3)"
   ]
  },
  {
   "cell_type": "code",
   "execution_count": null,
   "id": "195ee221-bbd2-47b6-aeec-0c4da7619ba5",
   "metadata": {},
   "outputs": [],
   "source": [
    "# Generate a classification report\n",
    "RPT3 = classification_report(y_test, y_pred3)\n",
    "print(\"Classification Report:\")\n",
    "print(RPT3)"
   ]
  },
  {
   "cell_type": "code",
   "execution_count": 43,
   "id": "a80bd14d-7615-4c61-a4a2-a85c277801bc",
   "metadata": {},
   "outputs": [
    {
     "name": "stdout",
     "output_type": "stream",
     "text": [
      "ROC-AUC Score: 0.5001853732259295\n"
     ]
    }
   ],
   "source": [
    "# Calculate the ROC-AUC score\n",
    "RcAc3 = roc_auc_score(y_test, y_pred3)\n",
    "print(\"ROC-AUC Score:\", RcAc3)"
   ]
  },
  {
   "cell_type": "code",
   "execution_count": 44,
   "id": "0d01e5b3-f1d5-40fe-9e3e-7c1ad450aad5",
   "metadata": {},
   "outputs": [],
   "source": [
    "# Calculate the ROC curve and AUC\n",
    "fpr3, tpr3, thresholds = roc_curve(y_test, y_pred3)\n",
    "roc_auc3 = auc(fpr3, tpr3)"
   ]
  },
  {
   "cell_type": "code",
   "execution_count": 45,
   "id": "472a49e2-4615-40cc-9ad5-ed7f90b08acc",
   "metadata": {},
   "outputs": [
    {
     "data": {
      "image/png": "[encoded data removed]",
      "text/plain": [
       "<Figure size 640x480 with 1 Axes>"
      ]
     },
     "metadata": {},
     "output_type": "display_data"
    }
   ],
   "source": [
    "# Plot the ROC curve\n",
    "plt.figure()\n",
    "plt.plot(fpr, tpr, color='darkorange', lw=2, label='ROC curve (area = %0.2f)' % roc_auc3)\n",
    "plt.plot([0, 1], [0, 1], color='navy', lw=2, linestyle='--')\n",
    "plt.xlim([0.0, 1.0])\n",
    "plt.ylim([0.0, 1.05])\n",
    "plt.xlabel('False Positive Rate')\n",
    "plt.ylabel('True Positive Rate')\n",
    "plt.title('Naive Bayes - Receiver Operating Characteristic Curve')\n",
    "plt.legend(loc=\"lower right\")\n",
    "plt.show()"
   ]
  },
  {
   "cell_type": "code",
   "execution_count": null,
   "id": "7cb571ee-81f2-420e-bfdd-94d564016023",
   "metadata": {},
   "outputs": [],
   "source": []
  },
  {
   "cell_type": "code",
   "execution_count": null,
   "id": "bf2c61a4-00ac-4f61-8db8-d12a6a84f5fa",
   "metadata": {},
   "outputs": [],
   "source": []
  },
  {
   "cell_type": "code",
   "execution_count": null,
   "id": "8033e827-d455-4171-8355-30e116a6e483",
   "metadata": {},
   "outputs": [],
   "source": []
  },
  {
   "cell_type": "markdown",
   "id": "ae2c2f91-037b-4cd8-8640-a6e799114a2a",
   "metadata": {},
   "source": [
    "# Decision Tree Classifier (4d)"
   ]
  },
  {
   "cell_type": "code",
   "execution_count": 46,
   "id": "76982bb0337de8b3",
   "metadata": {
    "ExecuteTime": {
     "end_time": "2024-07-28T16:10:23.127719Z",
     "start_time": "2024-07-28T16:10:23.124387Z"
    }
   },
   "outputs": [],
   "source": [
    "from sklearn.tree import DecisionTreeClassifier"
   ]
  },
  {
   "cell_type": "code",
   "execution_count": 47,
   "id": "9bccba605331cca1",
   "metadata": {
    "ExecuteTime": {
     "end_time": "2024-07-28T16:10:25.793974Z",
     "start_time": "2024-07-28T16:10:25.494717Z"
    }
   },
   "outputs": [
    {
     "data": {
      "text/html": [
       "<style>#sk-container-id-5 {color: black;}#sk-container-id-5 pre{padding: 0;}#sk-container-id-5 div.sk-toggleable {background-color: white;}#sk-container-id-5 label.sk-toggleable__label {cursor: pointer;display: block;width: 100%;margin-bottom: 0;padding: 0.3em;box-sizing: border-box;text-align: center;}#sk-container-id-5 label.sk-toggleable__label-arrow:before {content: \"▸\";float: left;margin-right: 0.25em;color: #696969;}#sk-container-id-5 label.sk-toggleable__label-arrow:hover:before {color: black;}#sk-container-id-5 div.sk-estimator:hover label.sk-toggleable__label-arrow:before {color: black;}#sk-container-id-5 div.sk-toggleable__content {max-height: 0;max-width: 0;overflow: hidden;text-align: left;background-color: #f0f8ff;}#sk-container-id-5 div.sk-toggleable__content pre {margin: 0.2em;color: black;border-radius: 0.25em;background-color: #f0f8ff;}#sk-container-id-5 input.sk-toggleable__control:checked~div.sk-toggleable__content {max-height: 200px;max-width: 100%;overflow: auto;}#sk-container-id-5 input.sk-toggleable__control:checked~label.sk-toggleable__label-arrow:before {content: \"▾\";}#sk-container-id-5 div.sk-estimator input.sk-toggleable__control:checked~label.sk-toggleable__label {background-color: #d4ebff;}#sk-container-id-5 div.sk-label input.sk-toggleable__control:checked~label.sk-toggleable__label {background-color: #d4ebff;}#sk-container-id-5 input.sk-hidden--visually {border: 0;clip: rect(1px 1px 1px 1px);clip: rect(1px, 1px, 1px, 1px);height: 1px;margin: -1px;overflow: hidden;padding: 0;position: absolute;width: 1px;}#sk-container-id-5 div.sk-estimator {font-family: monospace;background-color: #f0f8ff;border: 1px dotted black;border-radius: 0.25em;box-sizing: border-box;margin-bottom: 0.5em;}#sk-container-id-5 div.sk-estimator:hover {background-color: #d4ebff;}#sk-container-id-5 div.sk-parallel-item::after {content: \"\";width: 100%;border-bottom: 1px solid gray;flex-grow: 1;}#sk-container-id-5 div.sk-label:hover label.sk-toggleable__label {background-color: #d4ebff;}#sk-container-id-5 div.sk-serial::before {content: \"\";position: absolute;border-left: 1px solid gray;box-sizing: border-box;top: 0;bottom: 0;left: 50%;z-index: 0;}#sk-container-id-5 div.sk-serial {display: flex;flex-direction: column;align-items: center;background-color: white;padding-right: 0.2em;padding-left: 0.2em;position: relative;}#sk-container-id-5 div.sk-item {position: relative;z-index: 1;}#sk-container-id-5 div.sk-parallel {display: flex;align-items: stretch;justify-content: center;background-color: white;position: relative;}#sk-container-id-5 div.sk-item::before, #sk-container-id-5 div.sk-parallel-item::before {content: \"\";position: absolute;border-left: 1px solid gray;box-sizing: border-box;top: 0;bottom: 0;left: 50%;z-index: -1;}#sk-container-id-5 div.sk-parallel-item {display: flex;flex-direction: column;z-index: 1;position: relative;background-color: white;}#sk-container-id-5 div.sk-parallel-item:first-child::after {align-self: flex-end;width: 50%;}#sk-container-id-5 div.sk-parallel-item:last-child::after {align-self: flex-start;width: 50%;}#sk-container-id-5 div.sk-parallel-item:only-child::after {width: 0;}#sk-container-id-5 div.sk-dashed-wrapped {border: 1px dashed gray;margin: 0 0.4em 0.5em 0.4em;box-sizing: border-box;padding-bottom: 0.4em;background-color: white;}#sk-container-id-5 div.sk-label label {font-family: monospace;font-weight: bold;display: inline-block;line-height: 1.2em;}#sk-container-id-5 div.sk-label-container {text-align: center;}#sk-container-id-5 div.sk-container {/* jupyter's `normalize.less` sets `[hidden] { display: none; }` but bootstrap.min.css set `[hidden] { display: none !important; }` so we also need the `!important` here to be able to override the default hidden behavior on the sphinx rendered scikit-learn.org. See: https://github.com/scikit-learn/scikit-learn/issues/21755 */display: inline-block !important;position: relative;}#sk-container-id-5 div.sk-text-repr-fallback {display: none;}</style><div id=\"sk-container-id-5\" class=\"sk-top-container\"><div class=\"sk-text-repr-fallback\"><pre>DecisionTreeClassifier()</pre><b>In a Jupyter environment, please rerun this cell to show the HTML representation or trust the notebook. <br />On GitHub, the HTML representation is unable to render, please try loading this page with nbviewer.org.</b></div><div class=\"sk-container\" hidden><div class=\"sk-item\"><div class=\"sk-estimator sk-toggleable\"><input class=\"sk-toggleable__control sk-hidden--visually\" id=\"sk-estimator-id-5\" type=\"checkbox\" checked><label for=\"sk-estimator-id-5\" class=\"sk-toggleable__label sk-toggleable__label-arrow\">DecisionTreeClassifier</label><div class=\"sk-toggleable__content\"><pre>DecisionTreeClassifier()</pre></div></div></div></div></div>"
      ],
      "text/plain": [
       "DecisionTreeClassifier()"
      ]
     },
     "execution_count": 47,
     "metadata": {},
     "output_type": "execute_result"
    }
   ],
   "source": [
    "# Create a decision tree classifier\n",
    "DTC = DecisionTreeClassifier()\n",
    "DTC.fit(X_train, y_train)"
   ]
  },
  {
   "cell_type": "code",
   "execution_count": 48,
   "id": "942a6e23f99ec3d7",
   "metadata": {
    "ExecuteTime": {
     "end_time": "2024-07-28T16:10:27.344208Z",
     "start_time": "2024-07-28T16:10:27.320345Z"
    }
   },
   "outputs": [
    {
     "name": "stdout",
     "output_type": "stream",
     "text": [
      "Initial model accuracy: 0.8297\n"
     ]
    }
   ],
   "source": [
    "# Make predictions on the test set\n",
    "y_pred4 = DTC.predict(X_test)\n",
    "\n",
    "# Evaluate its performance on the test set\n",
    "initial_accuracy = accuracy_score(y_test, y_pred4)\n",
    "print(f'Initial model accuracy: {initial_accuracy:.4f}')"
   ]
  },
  {
   "cell_type": "code",
   "execution_count": null,
   "id": "50c6e795-9f4c-40db-9b42-f3f6642fdf11",
   "metadata": {},
   "outputs": [],
   "source": [
    "# Calculate F1 Score\n",
    "F1d = f1_score(y_pred4, y_test, average=\"weighted\")\n",
    "print(\"F1 Score:\", F1d)"
   ]
  },
  {
   "cell_type": "code",
   "execution_count": null,
   "id": "1e1eb238-bfbd-4920-ba17-08e88c6e2cdd",
   "metadata": {},
   "outputs": [],
   "source": [
    "# Calculate the confusion matrix\n",
    "CMd = confusion_matrix(y_test, y_pred4)\n",
    "print(\"Confusion Matrix:\")\n",
    "print(CMd)"
   ]
  },
  {
   "cell_type": "code",
   "execution_count": null,
   "id": "da939664-3b78-471b-a33c-a45cad8dd9e5",
   "metadata": {},
   "outputs": [],
   "source": [
    "# Visualize Confusion Matrix\n",
    "labels = [0,1]\n",
    "CM4 = confusion_matrix(y_test, y_pred4, labels=labels)\n",
    "disp = ConfusionMatrixDisplay(confusion_matrix=CM4, display_labels=labels)\n",
    "disp.plot();"
   ]
  },
  {
   "cell_type": "code",
   "execution_count": null,
   "id": "b612cb25-f803-4e0b-9dea-d56dba24acae",
   "metadata": {},
   "outputs": [],
   "source": [
    "# Calculate the sensitivity (true positive rate)\n",
    "SENSE4 = CMd[1][1] / (CMd[1][0] + CMd[1][1])\n",
    "print(\"Sensitivity:\", SENSE4)"
   ]
  },
  {
   "cell_type": "code",
   "execution_count": null,
   "id": "afbb63ce-daf6-497e-9df2-7fa27fc6891a",
   "metadata": {},
   "outputs": [],
   "source": [
    "# Generate a classification report\n",
    "RPT4 = classification_report(y_test, y_pred4)\n",
    "print(\"Classification Report:\")\n",
    "print(RPT4)"
   ]
  },
  {
   "cell_type": "code",
   "execution_count": 49,
   "id": "75c63c57-0d26-49eb-b799-b5216dcc5c0b",
   "metadata": {},
   "outputs": [
    {
     "name": "stdout",
     "output_type": "stream",
     "text": [
      "ROC-AUC Score: 0.5832697768733437\n"
     ]
    }
   ],
   "source": [
    "# Calculate the ROC-AUC score\n",
    "RcAc4 = roc_auc_score(y_test, y_pred4)\n",
    "print(\"ROC-AUC Score:\", RcAc4)"
   ]
  },
  {
   "cell_type": "code",
   "execution_count": 50,
   "id": "7b9dbcd3-924e-4e86-b703-d947f37dfb40",
   "metadata": {},
   "outputs": [],
   "source": [
    "# Calculate the ROC curve and AUC\n",
    "fpr4, tpr4, thresholds = roc_curve(y_test, y_pred4)\n",
    "roc_auc4 = auc(fpr4, tpr4)"
   ]
  },
  {
   "cell_type": "code",
   "execution_count": 51,
   "id": "3e1dbaf4-cddc-4c94-9bbb-52d0b5587787",
   "metadata": {},
   "outputs": [
    {
     "data": {
      "image/png": "[encoded data removed]",
      "text/plain": [
       "<Figure size 640x480 with 1 Axes>"
      ]
     },
     "metadata": {},
     "output_type": "display_data"
    }
   ],
   "source": [
    "# Plot the ROC curve\n",
    "plt.figure()\n",
    "plt.plot(fpr, tpr, color='darkorange', lw=2, label='ROC curve (area = %0.2f)' % roc_auc4)\n",
    "plt.plot([0, 1], [0, 1], color='navy', lw=2, linestyle='--')\n",
    "plt.xlim([0.0, 1.0])\n",
    "plt.ylim([0.0, 1.05])\n",
    "plt.xlabel('False Positive Rate')\n",
    "plt.ylabel('True Positive Rate')\n",
    "plt.title('Naive Bayes - Receiver Operating Characteristic Curve')\n",
    "plt.legend(loc=\"lower right\")\n",
    "plt.show()"
   ]
  },
  {
   "cell_type": "markdown",
   "id": "259cdad7-7518-4a18-8fb6-e89a0085b7bd",
   "metadata": {},
   "source": [
    "# Random Forest Model (5e)"
   ]
  },
  {
   "cell_type": "code",
   "execution_count": 9,
   "id": "2f80e0182d6ace0b",
   "metadata": {
    "ExecuteTime": {
     "end_time": "2024-07-28T16:11:00.898390Z",
     "start_time": "2024-07-28T16:10:52.704082Z"
    }
   },
   "outputs": [
    {
     "data": {
      "text/html": [
       "<style>#sk-container-id-1 {color: black;}#sk-container-id-1 pre{padding: 0;}#sk-container-id-1 div.sk-toggleable {background-color: white;}#sk-container-id-1 label.sk-toggleable__label {cursor: pointer;display: block;width: 100%;margin-bottom: 0;padding: 0.3em;box-sizing: border-box;text-align: center;}#sk-container-id-1 label.sk-toggleable__label-arrow:before {content: \"▸\";float: left;margin-right: 0.25em;color: #696969;}#sk-container-id-1 label.sk-toggleable__label-arrow:hover:before {color: black;}#sk-container-id-1 div.sk-estimator:hover label.sk-toggleable__label-arrow:before {color: black;}#sk-container-id-1 div.sk-toggleable__content {max-height: 0;max-width: 0;overflow: hidden;text-align: left;background-color: #f0f8ff;}#sk-container-id-1 div.sk-toggleable__content pre {margin: 0.2em;color: black;border-radius: 0.25em;background-color: #f0f8ff;}#sk-container-id-1 input.sk-toggleable__control:checked~div.sk-toggleable__content {max-height: 200px;max-width: 100%;overflow: auto;}#sk-container-id-1 input.sk-toggleable__control:checked~label.sk-toggleable__label-arrow:before {content: \"▾\";}#sk-container-id-1 div.sk-estimator input.sk-toggleable__control:checked~label.sk-toggleable__label {background-color: #d4ebff;}#sk-container-id-1 div.sk-label input.sk-toggleable__control:checked~label.sk-toggleable__label {background-color: #d4ebff;}#sk-container-id-1 input.sk-hidden--visually {border: 0;clip: rect(1px 1px 1px 1px);clip: rect(1px, 1px, 1px, 1px);height: 1px;margin: -1px;overflow: hidden;padding: 0;position: absolute;width: 1px;}#sk-container-id-1 div.sk-estimator {font-family: monospace;background-color: #f0f8ff;border: 1px dotted black;border-radius: 0.25em;box-sizing: border-box;margin-bottom: 0.5em;}#sk-container-id-1 div.sk-estimator:hover {background-color: #d4ebff;}#sk-container-id-1 div.sk-parallel-item::after {content: \"\";width: 100%;border-bottom: 1px solid gray;flex-grow: 1;}#sk-container-id-1 div.sk-label:hover label.sk-toggleable__label {background-color: #d4ebff;}#sk-container-id-1 div.sk-serial::before {content: \"\";position: absolute;border-left: 1px solid gray;box-sizing: border-box;top: 0;bottom: 0;left: 50%;z-index: 0;}#sk-container-id-1 div.sk-serial {display: flex;flex-direction: column;align-items: center;background-color: white;padding-right: 0.2em;padding-left: 0.2em;position: relative;}#sk-container-id-1 div.sk-item {position: relative;z-index: 1;}#sk-container-id-1 div.sk-parallel {display: flex;align-items: stretch;justify-content: center;background-color: white;position: relative;}#sk-container-id-1 div.sk-item::before, #sk-container-id-1 div.sk-parallel-item::before {content: \"\";position: absolute;border-left: 1px solid gray;box-sizing: border-box;top: 0;bottom: 0;left: 50%;z-index: -1;}#sk-container-id-1 div.sk-parallel-item {display: flex;flex-direction: column;z-index: 1;position: relative;background-color: white;}#sk-container-id-1 div.sk-parallel-item:first-child::after {align-self: flex-end;width: 50%;}#sk-container-id-1 div.sk-parallel-item:last-child::after {align-self: flex-start;width: 50%;}#sk-container-id-1 div.sk-parallel-item:only-child::after {width: 0;}#sk-container-id-1 div.sk-dashed-wrapped {border: 1px dashed gray;margin: 0 0.4em 0.5em 0.4em;box-sizing: border-box;padding-bottom: 0.4em;background-color: white;}#sk-container-id-1 div.sk-label label {font-family: monospace;font-weight: bold;display: inline-block;line-height: 1.2em;}#sk-container-id-1 div.sk-label-container {text-align: center;}#sk-container-id-1 div.sk-container {/* jupyter's `normalize.less` sets `[hidden] { display: none; }` but bootstrap.min.css set `[hidden] { display: none !important; }` so we also need the `!important` here to be able to override the default hidden behavior on the sphinx rendered scikit-learn.org. See: https://github.com/scikit-learn/scikit-learn/issues/21755 */display: inline-block !important;position: relative;}#sk-container-id-1 div.sk-text-repr-fallback {display: none;}</style><div id=\"sk-container-id-1\" class=\"sk-top-container\"><div class=\"sk-text-repr-fallback\"><pre>RandomForestClassifier()</pre><b>In a Jupyter environment, please rerun this cell to show the HTML representation or trust the notebook. <br />On GitHub, the HTML representation is unable to render, please try loading this page with nbviewer.org.</b></div><div class=\"sk-container\" hidden><div class=\"sk-item\"><div class=\"sk-estimator sk-toggleable\"><input class=\"sk-toggleable__control sk-hidden--visually\" id=\"sk-estimator-id-1\" type=\"checkbox\" checked><label for=\"sk-estimator-id-1\" class=\"sk-toggleable__label sk-toggleable__label-arrow\">RandomForestClassifier</label><div class=\"sk-toggleable__content\"><pre>RandomForestClassifier()</pre></div></div></div></div></div>"
      ],
      "text/plain": [
       "RandomForestClassifier()"
      ]
     },
     "execution_count": 9,
     "metadata": {},
     "output_type": "execute_result"
    }
   ],
   "source": [
    "# Create a Random Forest classifier\n",
    "RFC = RandomForestClassifier(n_estimators=100)  # Number of trees\n",
    "RFC.fit(X_train, y_train)"
   ]
  },
  {
   "cell_type": "code",
   "execution_count": 10,
   "id": "e1fd701216cd7aed",
   "metadata": {
    "ExecuteTime": {
     "end_time": "2024-07-28T16:11:20.496487Z",
     "start_time": "2024-07-28T16:11:19.518258Z"
    }
   },
   "outputs": [
    {
     "name": "stdout",
     "output_type": "stream",
     "text": [
      "Initial model accuracy: 0.8482\n"
     ]
    }
   ],
   "source": [
    "# Make predictions on the test set\n",
    "y_pred5 = RFC.predict(X_test)\n",
    "\n",
    "# Evaluate its performance on the test set\n",
    "initial_accuracy = accuracy_score(y_test, y_pred5)\n",
    "print(f'Initial model accuracy: {initial_accuracy:.4f}')"
   ]
  },
  {
   "cell_type": "code",
   "execution_count": null,
   "id": "dbf4f3ea-03bd-440c-94ce-a83ad0d46b02",
   "metadata": {},
   "outputs": [],
   "source": []
  },
  {
   "cell_type": "code",
   "execution_count": null,
   "id": "b5e10360-7206-4b5b-81b1-493b61d0c339",
   "metadata": {},
   "outputs": [],
   "source": [
    "# Calculate F1 Score\n",
    "F1d = f1_score(y_pred5, y_test, average=\"weighted\")\n",
    "print(\"F1 Score:\", F1d)"
   ]
  },
  {
   "cell_type": "code",
   "execution_count": null,
   "id": "15121bb7-e8db-4b0a-b8e3-f8f81c7cfa15",
   "metadata": {},
   "outputs": [],
   "source": [
    "# Calculate the confusion matrix\n",
    "CMe = confusion_matrix(y_test, y_pred5)\n",
    "print(\"Confusion Matrix:\")\n",
    "print(CMe)"
   ]
  },
  {
   "cell_type": "code",
   "execution_count": null,
   "id": "e9b30621-4cd6-4a9a-b8f6-1dda6ce0a810",
   "metadata": {},
   "outputs": [],
   "source": [
    "# Visualize Confusion Matrix\n",
    "labels = [0,1]\n",
    "CM5 = confusion_matrix(y_test, y_pred5, labels=labels)\n",
    "disp = ConfusionMatrixDisplay(confusion_matrix=CM5, display_labels=labels)\n",
    "disp.plot();"
   ]
  },
  {
   "cell_type": "code",
   "execution_count": null,
   "id": "6b9f7f33-b303-492e-9f26-a3fb280e6ae3",
   "metadata": {},
   "outputs": [],
   "source": [
    "# Calculate the sensitivity (true positive rate)\n",
    "SENSE5 = CMe[1][1] / (CMe[1][0] + CMe[1][1])\n",
    "print(\"Sensitivity:\", SENSE5)"
   ]
  },
  {
   "cell_type": "code",
   "execution_count": null,
   "id": "568ab76b-9c77-4ea5-a33f-d172ab442183",
   "metadata": {},
   "outputs": [],
   "source": [
    "# Generate a classification report\n",
    "RPT5 = classification_report(y_test, y_pred5)\n",
    "print(\"Classification Report:\")\n",
    "print(RPT5)"
   ]
  },
  {
   "cell_type": "code",
   "execution_count": 54,
   "id": "dcdeaea9-6798-4209-bcf0-df39a11f5cf9",
   "metadata": {},
   "outputs": [
    {
     "name": "stdout",
     "output_type": "stream",
     "text": [
      "ROC-AUC Score: 0.5757473891840876\n"
     ]
    }
   ],
   "source": [
    "# Calculate the ROC-AUC score\n",
    "RcAc5 = roc_auc_score(y_test, y_pred5)\n",
    "print(\"ROC-AUC Score:\", RcAc5)"
   ]
  },
  {
   "cell_type": "code",
   "execution_count": 55,
   "id": "b5ede4a3-d7a7-43c9-ba5e-2844804faecc",
   "metadata": {},
   "outputs": [],
   "source": [
    "# Calculate the ROC curve and AUC\n",
    "fpr5, tpr5, thresholds = roc_curve(y_test, y_pred5)\n",
    "roc_auc5 = auc(fpr5, tpr5)"
   ]
  },
  {
   "cell_type": "code",
   "execution_count": 56,
   "id": "a3657e11-32ce-4a6f-9492-d48c1287a029",
   "metadata": {},
   "outputs": [
    {
     "data": {
      "image/png": "[encoded data removed]",
      "text/plain": [
       "<Figure size 640x480 with 1 Axes>"
      ]
     },
     "metadata": {},
     "output_type": "display_data"
    }
   ],
   "source": [
    "# Plot the ROC curve\n",
    "plt.figure()\n",
    "plt.plot(fpr, tpr, color='darkorange', lw=2, label='ROC curve (area = %0.2f)' % roc_auc5)\n",
    "plt.plot([0, 1], [0, 1], color='navy', lw=2, linestyle='--')\n",
    "plt.xlim([0.0, 1.0])\n",
    "plt.ylim([0.0, 1.05])\n",
    "plt.xlabel('False Positive Rate')\n",
    "plt.ylabel('True Positive Rate')\n",
    "plt.title('Naive Bayes - Receiver Operating Characteristic Curve')\n",
    "plt.legend(loc=\"lower right\")\n",
    "plt.show()"
   ]
  },
  {
   "cell_type": "markdown",
   "id": "2068a7ef-412c-4e8a-a722-5bee8f795ca9",
   "metadata": {},
   "source": [
    "# Permutation Feature Importance (Random Forest)"
   ]
  },
  {
   "cell_type": "code",
   "execution_count": 11,
   "id": "87d5d236-4e89-4836-a819-769395e94b5b",
   "metadata": {},
   "outputs": [],
   "source": [
    "from sklearn.inspection import permutation_importance"
   ]
  },
  {
   "cell_type": "code",
   "execution_count": 12,
   "id": "804c03f8-1109-483d-b33d-6c941dae52eb",
   "metadata": {},
   "outputs": [],
   "source": [
    "# Calculate permutation importance\n",
    "perm_importance = permutation_importance(RFC, X_test, y_test)"
   ]
  },
  {
   "cell_type": "code",
   "execution_count": 13,
   "id": "b36ef1f6-1863-4f72-bda1-8e9242182167",
   "metadata": {},
   "outputs": [],
   "source": [
    "# Sort features by importance\n",
    "sorted_idx = perm_importance.importances_mean.argsort()"
   ]
  },
  {
   "cell_type": "code",
   "execution_count": 14,
   "id": "9ee39b40-bde4-4cd3-a864-c2117501ae71",
   "metadata": {},
   "outputs": [
    {
     "data": {
      "image/png": "[encoded data removed]",
      "text/plain": [
       "<Figure size 640x480 with 1 Axes>"
      ]
     },
     "metadata": {},
     "output_type": "display_data"
    }
   ],
   "source": [
    "# Plot the importance\n",
    "plt.barh(sorted_idx, perm_importance.importances_mean[sorted_idx])\n",
    "plt.yticks(range(len(sorted_idx)), DBHI2.columns[sorted_idx])\n",
    "plt.xlabel(\"Permutation Importance\")\n",
    "plt.show()"
   ]
  },
  {
   "cell_type": "code",
   "execution_count": null,
   "id": "af147fec-b535-4772-8c46-d9651f7e5626",
   "metadata": {},
   "outputs": [],
   "source": []
  },
  {
   "cell_type": "markdown",
   "id": "db9afd40-87d5-4457-8083-25585347dc48",
   "metadata": {},
   "source": [
    "# Artificial Neural Network (6f)"
   ]
  },
  {
   "cell_type": "code",
   "execution_count": null,
   "id": "777a9fd2-c4e5-4261-9aa1-7b690a174530",
   "metadata": {},
   "outputs": [],
   "source": []
  },
  {
   "cell_type": "code",
   "execution_count": null,
   "id": "022c737d-80e3-4a6c-9988-d64befb9773b",
   "metadata": {},
   "outputs": [],
   "source": [
    "from sklearn.neural_network import MLPClassifier\n",
    "from sklearn.preprocessing import StandardScaler"
   ]
  },
  {
   "cell_type": "code",
   "execution_count": null,
   "id": "954db7f4-dafc-4f6b-a2c1-9542951bd25f",
   "metadata": {},
   "outputs": [],
   "source": [
    "# Scale the input features\n",
    "scaler = StandardScaler()\n",
    "X_train_scaled = scaler.fit_transform(X_train)\n",
    "X_test_scaled = scaler.transform(X_test)"
   ]
  },
  {
   "cell_type": "code",
   "execution_count": null,
   "id": "68122e2b-6dc6-47a5-a956-0feafbeb4c9d",
   "metadata": {},
   "outputs": [],
   "source": [
    "# Create an instance of the MLPClassifier\n",
    "mlp = MLPClassifier(hidden_layer_sizes=(500, 50), activation='relu', solver='adam', random_state=42)"
   ]
  },
  {
   "cell_type": "code",
   "execution_count": null,
   "id": "c027c1b5-0ad3-4d78-ba68-e5067233a559",
   "metadata": {},
   "outputs": [],
   "source": [
    "# Train the model\n",
    "mlp.fit(X_train_scaled, y_train)"
   ]
  },
  {
   "cell_type": "code",
   "execution_count": null,
   "id": "6fd89add-2116-47ae-9360-94d22806945d",
   "metadata": {},
   "outputs": [],
   "source": [
    "# Evaluate the model\n",
    "accuracy = mlp.score(X_test_scaled, y_test)\n",
    "print(\"Accuracy:\", accuracy)"
   ]
  },
  {
   "cell_type": "code",
   "execution_count": null,
   "id": "40aae81b-abd0-47c7-bdb3-2fb3bf158e6c",
   "metadata": {},
   "outputs": [],
   "source": [
    "# Make predictions on the test set\n",
    "y_pred6 = mlp.predict(X_test)\n",
    "\n",
    "# Evaluate its performance on the test set\n",
    "initial_accuracy = accuracy_score(y_test, y_pred6)\n",
    "print(f'Initial model accuracy: {initial_accuracy:.4f}')"
   ]
  },
  {
   "cell_type": "code",
   "execution_count": null,
   "id": "84cb4c81-fdc7-46be-92c7-fbe4f4a655b2",
   "metadata": {},
   "outputs": [],
   "source": [
    "# Calculate F1 Score\n",
    "F1f = f1_score(y_pred6, y_test, average=\"weighted\")\n",
    "print(\"F1 Score:\", F1f)"
   ]
  },
  {
   "cell_type": "code",
   "execution_count": null,
   "id": "2ea89aba-9c32-4886-bba3-2adcfc4654cf",
   "metadata": {},
   "outputs": [],
   "source": [
    "# Calculate the confusion matrix\n",
    "CMf = confusion_matrix(y_test, y_pred6)\n",
    "print(\"Confusion Matrix:\")\n",
    "print(CMf)"
   ]
  },
  {
   "cell_type": "code",
   "execution_count": null,
   "id": "d2032bb3-418d-43e7-8d09-9eb6f9ce002c",
   "metadata": {},
   "outputs": [],
   "source": [
    "# Visualize Confusion Matrix\n",
    "labels = [0,1]\n",
    "CM6 = confusion_matrix(y_test, y_pred6, labels=labels)\n",
    "disp = ConfusionMatrixDisplay(confusion_matrix=CM6, display_labels=labels)\n",
    "disp.plot();"
   ]
  },
  {
   "cell_type": "code",
   "execution_count": null,
   "id": "5612e71a-f6af-4081-822d-cddd8db883c1",
   "metadata": {},
   "outputs": [],
   "source": [
    "# Calculate the sensitivity (true positive rate)\n",
    "SENSE6 = CMf[1][1] / (CMf[1][0] + CMf[1][1])\n",
    "print(\"Sensitivity:\", SENSE6)"
   ]
  },
  {
   "cell_type": "code",
   "execution_count": null,
   "id": "3d619637-0c8d-4501-8072-ca03945f6660",
   "metadata": {},
   "outputs": [],
   "source": [
    "# Generate a classification report\n",
    "RPT6 = classification_report(y_test, y_pred6)\n",
    "print(\"Classification Report:\")\n",
    "print(RPT6)"
   ]
  },
  {
   "cell_type": "code",
   "execution_count": null,
   "id": "44c2b7de-4fe6-41f0-8ee9-6c6169f1a3b2",
   "metadata": {},
   "outputs": [],
   "source": []
  },
  {
   "cell_type": "code",
   "execution_count": null,
   "id": "013bc798-695f-4b8d-9421-8c3b756fd3d8",
   "metadata": {},
   "outputs": [],
   "source": [
    "# Calculate the ROC-AUC score\n",
    "RcAc6 = roc_auc_score(y_test, y_pred6)\n",
    "print(\"ROC-AUC Score:\", RcAc6)"
   ]
  },
  {
   "cell_type": "code",
   "execution_count": null,
   "id": "7eb5c317-0919-4d5d-b127-660fedb26bb0",
   "metadata": {},
   "outputs": [],
   "source": [
    "# Calculate the ROC curve and AUC\n",
    "fpr6, tpr6, thresholds = roc_curve(y_test, y_pred6)\n",
    "roc_auc6 = auc(fpr6, tpr6)"
   ]
  },
  {
   "cell_type": "code",
   "execution_count": null,
   "id": "e4fcb446-3b60-478b-9b59-f89e4235e7f2",
   "metadata": {},
   "outputs": [],
   "source": [
    "# Plot the ROC curve\n",
    "plt.figure()\n",
    "plt.plot(fpr, tpr, color='darkorange', lw=2, label='ROC curve (area = %0.2f)' % roc_auc6)\n",
    "plt.plot([0, 1], [0, 1], color='navy', lw=2, linestyle='--')\n",
    "plt.xlim([0.0, 1.0])\n",
    "plt.ylim([0.0, 1.05])\n",
    "plt.xlabel('False Positive Rate')\n",
    "plt.ylabel('True Positive Rate')\n",
    "plt.title('Naive Bayes - Receiver Operating Characteristic Curve')\n",
    "plt.legend(loc=\"lower right\")\n",
    "plt.show()"
   ]
  },
  {
   "cell_type": "code",
   "execution_count": null,
   "id": "1bad528d-fa46-422c-a230-46c57a7323c2",
   "metadata": {},
   "outputs": [],
   "source": [
    "# Hybrid Random Forest / Logistic Regression"
   ]
  },
  {
   "cell_type": "code",
   "execution_count": 8,
   "id": "8cd1d539-d495-4ca1-8ebb-ba557737df5b",
   "metadata": {},
   "outputs": [],
   "source": [
    "# Initialize the models\n",
    "rf_model = RandomForestClassifier(n_estimators=100, random_state=42)\n",
    "lr_model = LogisticRegression(max_iter=200)"
   ]
  },
  {
   "cell_type": "code",
   "execution_count": 9,
   "id": "47215cb5-53f2-49c6-9545-6af7b7e71292",
   "metadata": {},
   "outputs": [
    {
     "data": {
      "text/html": [
       "<style>#sk-container-id-1 {color: black;}#sk-container-id-1 pre{padding: 0;}#sk-container-id-1 div.sk-toggleable {background-color: white;}#sk-container-id-1 label.sk-toggleable__label {cursor: pointer;display: block;width: 100%;margin-bottom: 0;padding: 0.3em;box-sizing: border-box;text-align: center;}#sk-container-id-1 label.sk-toggleable__label-arrow:before {content: \"▸\";float: left;margin-right: 0.25em;color: #696969;}#sk-container-id-1 label.sk-toggleable__label-arrow:hover:before {color: black;}#sk-container-id-1 div.sk-estimator:hover label.sk-toggleable__label-arrow:before {color: black;}#sk-container-id-1 div.sk-toggleable__content {max-height: 0;max-width: 0;overflow: hidden;text-align: left;background-color: #f0f8ff;}#sk-container-id-1 div.sk-toggleable__content pre {margin: 0.2em;color: black;border-radius: 0.25em;background-color: #f0f8ff;}#sk-container-id-1 input.sk-toggleable__control:checked~div.sk-toggleable__content {max-height: 200px;max-width: 100%;overflow: auto;}#sk-container-id-1 input.sk-toggleable__control:checked~label.sk-toggleable__label-arrow:before {content: \"▾\";}#sk-container-id-1 div.sk-estimator input.sk-toggleable__control:checked~label.sk-toggleable__label {background-color: #d4ebff;}#sk-container-id-1 div.sk-label input.sk-toggleable__control:checked~label.sk-toggleable__label {background-color: #d4ebff;}#sk-container-id-1 input.sk-hidden--visually {border: 0;clip: rect(1px 1px 1px 1px);clip: rect(1px, 1px, 1px, 1px);height: 1px;margin: -1px;overflow: hidden;padding: 0;position: absolute;width: 1px;}#sk-container-id-1 div.sk-estimator {font-family: monospace;background-color: #f0f8ff;border: 1px dotted black;border-radius: 0.25em;box-sizing: border-box;margin-bottom: 0.5em;}#sk-container-id-1 div.sk-estimator:hover {background-color: #d4ebff;}#sk-container-id-1 div.sk-parallel-item::after {content: \"\";width: 100%;border-bottom: 1px solid gray;flex-grow: 1;}#sk-container-id-1 div.sk-label:hover label.sk-toggleable__label {background-color: #d4ebff;}#sk-container-id-1 div.sk-serial::before {content: \"\";position: absolute;border-left: 1px solid gray;box-sizing: border-box;top: 0;bottom: 0;left: 50%;z-index: 0;}#sk-container-id-1 div.sk-serial {display: flex;flex-direction: column;align-items: center;background-color: white;padding-right: 0.2em;padding-left: 0.2em;position: relative;}#sk-container-id-1 div.sk-item {position: relative;z-index: 1;}#sk-container-id-1 div.sk-parallel {display: flex;align-items: stretch;justify-content: center;background-color: white;position: relative;}#sk-container-id-1 div.sk-item::before, #sk-container-id-1 div.sk-parallel-item::before {content: \"\";position: absolute;border-left: 1px solid gray;box-sizing: border-box;top: 0;bottom: 0;left: 50%;z-index: -1;}#sk-container-id-1 div.sk-parallel-item {display: flex;flex-direction: column;z-index: 1;position: relative;background-color: white;}#sk-container-id-1 div.sk-parallel-item:first-child::after {align-self: flex-end;width: 50%;}#sk-container-id-1 div.sk-parallel-item:last-child::after {align-self: flex-start;width: 50%;}#sk-container-id-1 div.sk-parallel-item:only-child::after {width: 0;}#sk-container-id-1 div.sk-dashed-wrapped {border: 1px dashed gray;margin: 0 0.4em 0.5em 0.4em;box-sizing: border-box;padding-bottom: 0.4em;background-color: white;}#sk-container-id-1 div.sk-label label {font-family: monospace;font-weight: bold;display: inline-block;line-height: 1.2em;}#sk-container-id-1 div.sk-label-container {text-align: center;}#sk-container-id-1 div.sk-container {/* jupyter's `normalize.less` sets `[hidden] { display: none; }` but bootstrap.min.css set `[hidden] { display: none !important; }` so we also need the `!important` here to be able to override the default hidden behavior on the sphinx rendered scikit-learn.org. See: https://github.com/scikit-learn/scikit-learn/issues/21755 */display: inline-block !important;position: relative;}#sk-container-id-1 div.sk-text-repr-fallback {display: none;}</style><div id=\"sk-container-id-1\" class=\"sk-top-container\"><div class=\"sk-text-repr-fallback\"><pre>LogisticRegression(max_iter=200)</pre><b>In a Jupyter environment, please rerun this cell to show the HTML representation or trust the notebook. <br />On GitHub, the HTML representation is unable to render, please try loading this page with nbviewer.org.</b></div><div class=\"sk-container\" hidden><div class=\"sk-item\"><div class=\"sk-estimator sk-toggleable\"><input class=\"sk-toggleable__control sk-hidden--visually\" id=\"sk-estimator-id-1\" type=\"checkbox\" checked><label for=\"sk-estimator-id-1\" class=\"sk-toggleable__label sk-toggleable__label-arrow\">LogisticRegression</label><div class=\"sk-toggleable__content\"><pre>LogisticRegression(max_iter=200)</pre></div></div></div></div></div>"
      ],
      "text/plain": [
       "LogisticRegression(max_iter=200)"
      ]
     },
     "execution_count": 9,
     "metadata": {},
     "output_type": "execute_result"
    }
   ],
   "source": [
    "# Train the models\n",
    "rf_model.fit(X_train, y_train)\n",
    "lr_model.fit(X_train, y_train)"
   ]
  },
  {
   "cell_type": "code",
   "execution_count": 10,
   "id": "29830eb3-e6c6-4e24-a0f5-5e27353ea5e9",
   "metadata": {},
   "outputs": [],
   "source": [
    "# Make predictions\n",
    "rf_predictions = rf_model.predict_proba(X_test)\n",
    "lr_predictions = lr_model.predict_proba(X_test)"
   ]
  },
  {
   "cell_type": "code",
   "execution_count": 12,
   "id": "efa15d64-9ff8-4f1d-8a64-289075f29be0",
   "metadata": {},
   "outputs": [],
   "source": [
    "# Combine the predictions\n",
    "combined_predictions = (rf_predictions + lr_predictions) / 2"
   ]
  },
  {
   "cell_type": "code",
   "execution_count": 13,
   "id": "5f2b3b4c-ffae-4e4c-96f2-62e8d2cd03a1",
   "metadata": {},
   "outputs": [],
   "source": [
    "# Convert probabilities to class labels\n",
    "final_predictions = np.argmax(combined_predictions, axis=1)"
   ]
  },
  {
   "cell_type": "code",
   "execution_count": 14,
   "id": "1b539a78-2a9c-4c70-a6c3-0192e364a10c",
   "metadata": {},
   "outputs": [
    {
     "name": "stdout",
     "output_type": "stream",
     "text": [
      "Hybrid Model Accuracy: 0.86\n"
     ]
    }
   ],
   "source": [
    "# Evaluate the model\n",
    "accuracy = accuracy_score(y_test, final_predictions)\n",
    "print(f'Hybrid Model Accuracy: {accuracy:.2f}')\n"
   ]
  },
  {
   "cell_type": "code",
   "execution_count": null,
   "id": "1f624a29-cf1a-4702-a788-e93467def131",
   "metadata": {},
   "outputs": [],
   "source": []
  },
  {
   "cell_type": "code",
   "execution_count": 15,
   "id": "ff6d1bae-a8e7-4150-98a8-9aaa5f6d7618",
   "metadata": {},
   "outputs": [],
   "source": [
    "# Initialize the models\n",
    "bnb_model = BernoulliNB()\n",
    "lr_model = LogisticRegression(max_iter=200)"
   ]
  },
  {
   "cell_type": "code",
   "execution_count": 16,
   "id": "631bd4ac-f8d3-4ff4-8ef0-ee750431857f",
   "metadata": {},
   "outputs": [
    {
     "data": {
      "text/html": [
       "<style>#sk-container-id-2 {color: black;}#sk-container-id-2 pre{padding: 0;}#sk-container-id-2 div.sk-toggleable {background-color: white;}#sk-container-id-2 label.sk-toggleable__label {cursor: pointer;display: block;width: 100%;margin-bottom: 0;padding: 0.3em;box-sizing: border-box;text-align: center;}#sk-container-id-2 label.sk-toggleable__label-arrow:before {content: \"▸\";float: left;margin-right: 0.25em;color: #696969;}#sk-container-id-2 label.sk-toggleable__label-arrow:hover:before {color: black;}#sk-container-id-2 div.sk-estimator:hover label.sk-toggleable__label-arrow:before {color: black;}#sk-container-id-2 div.sk-toggleable__content {max-height: 0;max-width: 0;overflow: hidden;text-align: left;background-color: #f0f8ff;}#sk-container-id-2 div.sk-toggleable__content pre {margin: 0.2em;color: black;border-radius: 0.25em;background-color: #f0f8ff;}#sk-container-id-2 input.sk-toggleable__control:checked~div.sk-toggleable__content {max-height: 200px;max-width: 100%;overflow: auto;}#sk-container-id-2 input.sk-toggleable__control:checked~label.sk-toggleable__label-arrow:before {content: \"▾\";}#sk-container-id-2 div.sk-estimator input.sk-toggleable__control:checked~label.sk-toggleable__label {background-color: #d4ebff;}#sk-container-id-2 div.sk-label input.sk-toggleable__control:checked~label.sk-toggleable__label {background-color: #d4ebff;}#sk-container-id-2 input.sk-hidden--visually {border: 0;clip: rect(1px 1px 1px 1px);clip: rect(1px, 1px, 1px, 1px);height: 1px;margin: -1px;overflow: hidden;padding: 0;position: absolute;width: 1px;}#sk-container-id-2 div.sk-estimator {font-family: monospace;background-color: #f0f8ff;border: 1px dotted black;border-radius: 0.25em;box-sizing: border-box;margin-bottom: 0.5em;}#sk-container-id-2 div.sk-estimator:hover {background-color: #d4ebff;}#sk-container-id-2 div.sk-parallel-item::after {content: \"\";width: 100%;border-bottom: 1px solid gray;flex-grow: 1;}#sk-container-id-2 div.sk-label:hover label.sk-toggleable__label {background-color: #d4ebff;}#sk-container-id-2 div.sk-serial::before {content: \"\";position: absolute;border-left: 1px solid gray;box-sizing: border-box;top: 0;bottom: 0;left: 50%;z-index: 0;}#sk-container-id-2 div.sk-serial {display: flex;flex-direction: column;align-items: center;background-color: white;padding-right: 0.2em;padding-left: 0.2em;position: relative;}#sk-container-id-2 div.sk-item {position: relative;z-index: 1;}#sk-container-id-2 div.sk-parallel {display: flex;align-items: stretch;justify-content: center;background-color: white;position: relative;}#sk-container-id-2 div.sk-item::before, #sk-container-id-2 div.sk-parallel-item::before {content: \"\";position: absolute;border-left: 1px solid gray;box-sizing: border-box;top: 0;bottom: 0;left: 50%;z-index: -1;}#sk-container-id-2 div.sk-parallel-item {display: flex;flex-direction: column;z-index: 1;position: relative;background-color: white;}#sk-container-id-2 div.sk-parallel-item:first-child::after {align-self: flex-end;width: 50%;}#sk-container-id-2 div.sk-parallel-item:last-child::after {align-self: flex-start;width: 50%;}#sk-container-id-2 div.sk-parallel-item:only-child::after {width: 0;}#sk-container-id-2 div.sk-dashed-wrapped {border: 1px dashed gray;margin: 0 0.4em 0.5em 0.4em;box-sizing: border-box;padding-bottom: 0.4em;background-color: white;}#sk-container-id-2 div.sk-label label {font-family: monospace;font-weight: bold;display: inline-block;line-height: 1.2em;}#sk-container-id-2 div.sk-label-container {text-align: center;}#sk-container-id-2 div.sk-container {/* jupyter's `normalize.less` sets `[hidden] { display: none; }` but bootstrap.min.css set `[hidden] { display: none !important; }` so we also need the `!important` here to be able to override the default hidden behavior on the sphinx rendered scikit-learn.org. See: https://github.com/scikit-learn/scikit-learn/issues/21755 */display: inline-block !important;position: relative;}#sk-container-id-2 div.sk-text-repr-fallback {display: none;}</style><div id=\"sk-container-id-2\" class=\"sk-top-container\"><div class=\"sk-text-repr-fallback\"><pre>LogisticRegression(max_iter=200)</pre><b>In a Jupyter environment, please rerun this cell to show the HTML representation or trust the notebook. <br />On GitHub, the HTML representation is unable to render, please try loading this page with nbviewer.org.</b></div><div class=\"sk-container\" hidden><div class=\"sk-item\"><div class=\"sk-estimator sk-toggleable\"><input class=\"sk-toggleable__control sk-hidden--visually\" id=\"sk-estimator-id-2\" type=\"checkbox\" checked><label for=\"sk-estimator-id-2\" class=\"sk-toggleable__label sk-toggleable__label-arrow\">LogisticRegression</label><div class=\"sk-toggleable__content\"><pre>LogisticRegression(max_iter=200)</pre></div></div></div></div></div>"
      ],
      "text/plain": [
       "LogisticRegression(max_iter=200)"
      ]
     },
     "execution_count": 16,
     "metadata": {},
     "output_type": "execute_result"
    }
   ],
   "source": [
    "# Train the models\n",
    "bnb_model.fit(X_train, y_train)\n",
    "lr_model.fit(X_train, y_train)"
   ]
  },
  {
   "cell_type": "code",
   "execution_count": 17,
   "id": "fc6cef50-0cd2-4df0-b457-05a37c4a5560",
   "metadata": {},
   "outputs": [],
   "source": [
    "# Make predictions\n",
    "bnb_predictions = bnb_model.predict_proba(X_test)\n",
    "lr_predictions = lr_model.predict_proba(X_test)"
   ]
  },
  {
   "cell_type": "code",
   "execution_count": 18,
   "id": "b7dbdeea-6d4e-4f96-8142-530ffe90e671",
   "metadata": {},
   "outputs": [],
   "source": [
    "# Combine the predictions\n",
    "combined_predictions = (bnb_predictions + lr_predictions) / 2"
   ]
  },
  {
   "cell_type": "code",
   "execution_count": 19,
   "id": "70f5a9a3-92eb-42cf-a82c-9ec8d294d6f1",
   "metadata": {},
   "outputs": [],
   "source": [
    "# Convert probabilities to class labels\n",
    "final_predictions = np.argmax(combined_predictions, axis=1)"
   ]
  },
  {
   "cell_type": "code",
   "execution_count": 20,
   "id": "104f5afb-fb62-4c19-8d7b-f62b57c09193",
   "metadata": {},
   "outputs": [
    {
     "name": "stdout",
     "output_type": "stream",
     "text": [
      "Hybrid Model Accuracy: 0.86\n"
     ]
    }
   ],
   "source": [
    "# Evaluate the model\n",
    "accuracy = accuracy_score(y_test, final_predictions)\n",
    "print(f'Hybrid Model Accuracy: {accuracy:.2f}')"
   ]
  },
  {
   "cell_type": "code",
   "execution_count": null,
   "id": "958ee4f7-3813-4afa-9f7f-ce5e47538467",
   "metadata": {},
   "outputs": [],
   "source": []
  },
  {
   "cell_type": "code",
   "execution_count": null,
   "id": "9ef19061-9a1c-4e94-a767-30814fa1120d",
   "metadata": {},
   "outputs": [],
   "source": []
  }
 ],
 "metadata": {
  "kernelspec": {
   "display_name": "anaconda-panel-2023.05-py310",
   "language": "python",
   "name": "conda-env-anaconda-panel-2023.05-py310-py"
  },
  "language_info": {
   "codemirror_mode": {
    "name": "ipython",
    "version": 3
   },
   "file_extension": ".py",
   "mimetype": "text/x-python",
   "name": "python",
   "nbconvert_exporter": "python",
   "pygments_lexer": "ipython3",
   "version": "3.11.5"
  }
 },
 "nbformat": 4,
 "nbformat_minor": 5
}
